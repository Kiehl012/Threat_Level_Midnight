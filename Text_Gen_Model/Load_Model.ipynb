{
  "nbformat": 4,
  "nbformat_minor": 0,
  "metadata": {
    "colab": {
      "name": "Load_Model.ipynb",
      "provenance": []
    },
    "kernelspec": {
      "name": "python3",
      "display_name": "Python 3"
    },
    "language_info": {
      "name": "python"
    }
  },
  "cells": [
    {
      "cell_type": "code",
      "source": [
        "import tensorflow as tf\n",
        "import numpy as np\n",
        "import os\n",
        "import time\n",
        "import pathlib"
      ],
      "metadata": {
        "id": "PGSgPZTT2mk4"
      },
      "execution_count": 2,
      "outputs": []
    },
    {
      "cell_type": "code",
      "execution_count": 6,
      "metadata": {
        "id": "t5pIjhQ52Xlp"
      },
      "outputs": [],
      "source": [
        "one_step_reloaded = tf.saved_model.load('RNN_Model')"
      ]
    },
    {
      "cell_type": "code",
      "source": [
        "start = time.time()\n",
        "states = None\n",
        "next_char = tf.constant([\"Dwight,\"])\n",
        "result = [next_char]\n",
        "\n",
        "for n in range(105):\n",
        "  next_char, states = one_step_reloaded.generate_one_step(next_char, states=states)\n",
        "  result.append(next_char)\n",
        "\n",
        "result = tf.strings.join(result)\n",
        "end = time.time()\n",
        "print(result[0].numpy().decode('utf-8'), '\\n\\n' + '_'*80)\n",
        "print('\\nRun time:', end - start)"
      ],
      "metadata": {
        "colab": {
          "base_uri": "https://localhost:8080/"
        },
        "id": "0qgOqR-t2esT",
        "outputId": "0929af11-39e8-4439-fe46-32e71c441326"
      },
      "execution_count": 10,
      "outputs": [
        {
          "output_type": "stream",
          "name": "stdout",
          "text": [
            "Dwight, and he will never have spoked with Santa is the oppossibe to their pockets. No, no, no. I mean having to \n",
            "\n",
            "________________________________________________________________________________\n",
            "\n",
            "Run time: 0.7246441841125488\n"
          ]
        }
      ]
    }
  ]
}
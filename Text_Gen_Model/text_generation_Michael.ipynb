{
  "cells": [
    {
      "cell_type": "code",
      "execution_count": 2,
      "metadata": {
        "id": "yG_n40gFzf9s"
      },
      "outputs": [],
      "source": [
        "import tensorflow as tf\n",
        "import numpy as np\n",
        "import os\n",
        "import time\n",
        "import pathlib"
      ]
    },
    {
      "cell_type": "code",
      "execution_count": 3,
      "metadata": {
        "id": "pD_55cOxLkAb"
      },
      "outputs": [],
      "source": [
        "path_to_file = 'michael_scripts.txt'"
      ]
    },
    {
      "cell_type": "markdown",
      "metadata": {
        "id": "UHjdCjDuSvX_"
      },
      "source": [
        "### Read the data\n",
        "\n",
        "First, look in the text:"
      ]
    },
    {
      "cell_type": "code",
      "execution_count": 4,
      "metadata": {
        "id": "aavnuByVymwK",
        "outputId": "74046abb-1d77-43bb-f5fd-70e7f6b05f44",
        "colab": {
          "base_uri": "https://localhost:8080/"
        }
      },
      "outputs": [
        {
          "output_type": "stream",
          "name": "stdout",
          "text": [
            "Length of text: 844866 characters\n"
          ]
        }
      ],
      "source": [
        "# Read, then decode for py2 compat.\n",
        "text = open(path_to_file, 'rb').read().decode(encoding='utf-8')\n",
        "# length of text is the number of characters in it\n",
        "print(f'Length of text: {len(text)} characters')"
      ]
    },
    {
      "cell_type": "code",
      "execution_count": 5,
      "metadata": {
        "id": "Duhg9NrUymwO",
        "outputId": "27fb3c4c-3e95-45a6-8790-3f36f7646edd",
        "colab": {
          "base_uri": "https://localhost:8080/"
        }
      },
      "outputs": [
        {
          "output_type": "stream",
          "name": "stdout",
          "text": [
            "All right Jim. Your quarterlies look very good. How are things at the library? So you've come to the master for guidance? Is this what you're saying, grasshopper? All right. Well, let me show you how it's done. So that's the way it's done. I've, uh, \n"
          ]
        }
      ],
      "source": [
        "# Take a look at the first 250 characters in text\n",
        "print(text[:250])"
      ]
    },
    {
      "cell_type": "code",
      "execution_count": 6,
      "metadata": {
        "id": "IlCgQBRVymwR",
        "outputId": "2e2b673b-2f6b-4346-913b-fe54901b5957",
        "colab": {
          "base_uri": "https://localhost:8080/"
        }
      },
      "outputs": [
        {
          "output_type": "stream",
          "name": "stdout",
          "text": [
            "84 unique characters\n"
          ]
        }
      ],
      "source": [
        "# The unique characters in the file\n",
        "vocab = sorted(set(text))\n",
        "print(f'{len(vocab)} unique characters')"
      ]
    },
    {
      "cell_type": "code",
      "execution_count": 7,
      "metadata": {
        "id": "a86OoYtO01go",
        "outputId": "bddfd4b1-65d9-4290-c29d-b6f6c46702f8",
        "colab": {
          "base_uri": "https://localhost:8080/"
        }
      },
      "outputs": [
        {
          "output_type": "execute_result",
          "data": {
            "text/plain": [
              "<tf.RaggedTensor [[b'a', b'b', b'c', b'd', b'e', b'f', b'g'], [b'x', b'y', b'z']]>"
            ]
          },
          "metadata": {},
          "execution_count": 7
        }
      ],
      "source": [
        "example_texts = ['abcdefg', 'xyz']\n",
        "\n",
        "chars = tf.strings.unicode_split(example_texts, input_encoding='UTF-8')\n",
        "chars"
      ]
    },
    {
      "cell_type": "markdown",
      "metadata": {
        "id": "1s4f1q3iqY8f"
      },
      "source": [
        "Now create the `tf.keras.layers.StringLookup` layer:"
      ]
    },
    {
      "cell_type": "code",
      "execution_count": 8,
      "metadata": {
        "id": "6GMlCe3qzaL9"
      },
      "outputs": [],
      "source": [
        "ids_from_chars = tf.keras.layers.StringLookup(\n",
        "    vocabulary=list(vocab), mask_token=None)"
      ]
    },
    {
      "cell_type": "markdown",
      "metadata": {
        "id": "ZmX_jbgQqfOi"
      },
      "source": [
        "It converts from tokens to character IDs:"
      ]
    },
    {
      "cell_type": "code",
      "execution_count": 9,
      "metadata": {
        "id": "WLv5Q_2TC2pc",
        "outputId": "478cc542-34e2-4741-e925-6c9f374a732e",
        "colab": {
          "base_uri": "https://localhost:8080/"
        }
      },
      "outputs": [
        {
          "output_type": "execute_result",
          "data": {
            "text/plain": [
              "<tf.RaggedTensor [[59, 60, 61, 62, 63, 64, 65], [82, 83, 84]]>"
            ]
          },
          "metadata": {},
          "execution_count": 9
        }
      ],
      "source": [
        "ids = ids_from_chars(chars)\n",
        "ids"
      ]
    },
    {
      "cell_type": "code",
      "execution_count": 10,
      "metadata": {
        "id": "Wd2m3mqkDjRj"
      },
      "outputs": [],
      "source": [
        "chars_from_ids = tf.keras.layers.StringLookup(\n",
        "    vocabulary=ids_from_chars.get_vocabulary(), invert=True, mask_token=None)"
      ]
    },
    {
      "cell_type": "markdown",
      "metadata": {
        "id": "pqTDDxS-s-H8"
      },
      "source": [
        "This layer recovers the characters from the vectors of IDs, and returns them as a `tf.RaggedTensor` of characters:"
      ]
    },
    {
      "cell_type": "code",
      "execution_count": 11,
      "metadata": {
        "id": "c2GCh0ySD44s",
        "outputId": "ab3ae6fe-9515-4d94-b03b-e255fe574715",
        "colab": {
          "base_uri": "https://localhost:8080/"
        }
      },
      "outputs": [
        {
          "output_type": "execute_result",
          "data": {
            "text/plain": [
              "<tf.RaggedTensor [[b'a', b'b', b'c', b'd', b'e', b'f', b'g'], [b'x', b'y', b'z']]>"
            ]
          },
          "metadata": {},
          "execution_count": 11
        }
      ],
      "source": [
        "chars = chars_from_ids(ids)\n",
        "chars"
      ]
    },
    {
      "cell_type": "markdown",
      "metadata": {
        "id": "-FeW5gqutT3o"
      },
      "source": [
        "You can `tf.strings.reduce_join` to join the characters back into strings. "
      ]
    },
    {
      "cell_type": "code",
      "execution_count": 12,
      "metadata": {
        "id": "zxYI-PeltqKP",
        "outputId": "92eb057a-4c10-4007-dd2a-39f5abd04ed4",
        "colab": {
          "base_uri": "https://localhost:8080/"
        }
      },
      "outputs": [
        {
          "output_type": "execute_result",
          "data": {
            "text/plain": [
              "array([b'abcdefg', b'xyz'], dtype=object)"
            ]
          },
          "metadata": {},
          "execution_count": 12
        }
      ],
      "source": [
        "tf.strings.reduce_join(chars, axis=-1).numpy()"
      ]
    },
    {
      "cell_type": "code",
      "execution_count": 13,
      "metadata": {
        "id": "w5apvBDn9Ind"
      },
      "outputs": [],
      "source": [
        "def text_from_ids(ids):\n",
        "  return tf.strings.reduce_join(chars_from_ids(ids), axis=-1)"
      ]
    },
    {
      "cell_type": "code",
      "execution_count": 14,
      "metadata": {
        "id": "UopbsKi88tm5",
        "outputId": "5aee7cd2-d180-43f6-8d80-2d3dad128e28",
        "colab": {
          "base_uri": "https://localhost:8080/"
        }
      },
      "outputs": [
        {
          "output_type": "execute_result",
          "data": {
            "text/plain": [
              "<tf.Tensor: shape=(844866,), dtype=int64, numpy=array([31, 70, 70, ..., 59, 71, 14])>"
            ]
          },
          "metadata": {},
          "execution_count": 14
        }
      ],
      "source": [
        "all_ids = ids_from_chars(tf.strings.unicode_split(text, 'UTF-8'))\n",
        "all_ids"
      ]
    },
    {
      "cell_type": "code",
      "execution_count": 15,
      "metadata": {
        "id": "qmxrYDCTy-eL"
      },
      "outputs": [],
      "source": [
        "ids_dataset = tf.data.Dataset.from_tensor_slices(all_ids)"
      ]
    },
    {
      "cell_type": "code",
      "execution_count": 16,
      "metadata": {
        "id": "cjH5v45-yqqH",
        "outputId": "6756f743-5258-4a68-c54c-767f95f1cb49",
        "colab": {
          "base_uri": "https://localhost:8080/"
        }
      },
      "outputs": [
        {
          "output_type": "stream",
          "name": "stdout",
          "text": [
            "A\n",
            "l\n",
            "l\n",
            " \n",
            "r\n",
            "i\n",
            "g\n",
            "h\n",
            "t\n",
            " \n"
          ]
        }
      ],
      "source": [
        "for ids in ids_dataset.take(10):\n",
        "    print(chars_from_ids(ids).numpy().decode('utf-8'))"
      ]
    },
    {
      "cell_type": "code",
      "execution_count": 17,
      "metadata": {
        "id": "C-G2oaTxy6km"
      },
      "outputs": [],
      "source": [
        "seq_length = 100\n",
        "examples_per_epoch = len(text)//(seq_length+1)"
      ]
    },
    {
      "cell_type": "markdown",
      "metadata": {
        "id": "-ZSYAcQV8OGP"
      },
      "source": [
        "The `batch` method lets you easily convert these individual characters to sequences of the desired size."
      ]
    },
    {
      "cell_type": "code",
      "execution_count": 18,
      "metadata": {
        "id": "BpdjRO2CzOfZ",
        "outputId": "1f964a50-d506-4b47-feca-bcfb9b39696c",
        "colab": {
          "base_uri": "https://localhost:8080/"
        }
      },
      "outputs": [
        {
          "output_type": "stream",
          "name": "stdout",
          "text": [
            "tf.Tensor(\n",
            "[b'A' b'l' b'l' b' ' b'r' b'i' b'g' b'h' b't' b' ' b'J' b'i' b'm' b'.'\n",
            " b' ' b'Y' b'o' b'u' b'r' b' ' b'q' b'u' b'a' b'r' b't' b'e' b'r' b'l'\n",
            " b'i' b'e' b's' b' ' b'l' b'o' b'o' b'k' b' ' b'v' b'e' b'r' b'y' b' '\n",
            " b'g' b'o' b'o' b'd' b'.' b' ' b'H' b'o' b'w' b' ' b'a' b'r' b'e' b' '\n",
            " b't' b'h' b'i' b'n' b'g' b's' b' ' b'a' b't' b' ' b't' b'h' b'e' b' '\n",
            " b'l' b'i' b'b' b'r' b'a' b'r' b'y' b'?' b' ' b'S' b'o' b' ' b'y' b'o'\n",
            " b'u' b\"'\" b'v' b'e' b' ' b'c' b'o' b'm' b'e' b' ' b't' b'o' b' ' b't'\n",
            " b'h' b'e' b' '], shape=(101,), dtype=string)\n"
          ]
        }
      ],
      "source": [
        "sequences = ids_dataset.batch(seq_length+1, drop_remainder=True)\n",
        "\n",
        "for seq in sequences.take(1):\n",
        "  print(chars_from_ids(seq))"
      ]
    },
    {
      "cell_type": "markdown",
      "metadata": {
        "id": "5PHW902-4oZt"
      },
      "source": [
        "It's easier to see what this is doing if you join the tokens back into strings:"
      ]
    },
    {
      "cell_type": "code",
      "execution_count": 19,
      "metadata": {
        "id": "QO32cMWu4a06",
        "outputId": "22a8ea79-fc99-4b11-efae-1913588d463a",
        "colab": {
          "base_uri": "https://localhost:8080/"
        }
      },
      "outputs": [
        {
          "output_type": "stream",
          "name": "stdout",
          "text": [
            "b\"All right Jim. Your quarterlies look very good. How are things at the library? So you've come to the \"\n",
            "b\"master for guidance? Is this what you're saying, grasshopper? All right. Well, let me show you how it\"\n",
            "b\"'s done. So that's the way it's done. I've, uh, I've been at Dunder Mifflin for 12 years, the last fo\"\n",
            "b'ur as Regional Manager. If you want to come through here... See we have the entire floor. So this is '\n",
            "b'my kingdom, as far as the eye can see. This is our receptionist, Pam. Pam! Pam-Pam! Pam Beesly. Pam h'\n"
          ]
        }
      ],
      "source": [
        "for seq in sequences.take(5):\n",
        "  print(text_from_ids(seq).numpy())"
      ]
    },
    {
      "cell_type": "markdown",
      "metadata": {
        "id": "UbLcIPBj_mWZ"
      },
      "source": [
        "For training you'll need a dataset of `(input, label)` pairs. Where `input` and \n",
        "`label` are sequences. At each time step the input is the current character and the label is the next character. \n",
        "\n",
        "Here's a function that takes a sequence as input, duplicates, and shifts it to align the input and label for each timestep:"
      ]
    },
    {
      "cell_type": "code",
      "execution_count": 20,
      "metadata": {
        "id": "9NGu-FkO_kYU"
      },
      "outputs": [],
      "source": [
        "def split_input_target(sequence):\n",
        "    input_text = sequence[:-1]\n",
        "    target_text = sequence[1:]\n",
        "    return input_text, target_text"
      ]
    },
    {
      "cell_type": "code",
      "execution_count": 21,
      "metadata": {
        "id": "WxbDTJTw5u_P",
        "outputId": "e9e5d5a7-fe81-46e3-9359-34a42d26ce1e",
        "colab": {
          "base_uri": "https://localhost:8080/"
        }
      },
      "outputs": [
        {
          "output_type": "execute_result",
          "data": {
            "text/plain": [
              "(['T', 'e', 'n', 's', 'o', 'r', 'f', 'l', 'o'],\n",
              " ['e', 'n', 's', 'o', 'r', 'f', 'l', 'o', 'w'])"
            ]
          },
          "metadata": {},
          "execution_count": 21
        }
      ],
      "source": [
        "split_input_target(list(\"Tensorflow\"))"
      ]
    },
    {
      "cell_type": "code",
      "execution_count": 22,
      "metadata": {
        "id": "B9iKPXkw5xwa"
      },
      "outputs": [],
      "source": [
        "dataset = sequences.map(split_input_target)"
      ]
    },
    {
      "cell_type": "code",
      "execution_count": 23,
      "metadata": {
        "id": "GNbw-iR0ymwj",
        "outputId": "7982b24e-9b97-4a6b-90b9-56cfd2a8c6b8",
        "colab": {
          "base_uri": "https://localhost:8080/"
        }
      },
      "outputs": [
        {
          "output_type": "stream",
          "name": "stdout",
          "text": [
            "Input : b\"All right Jim. Your quarterlies look very good. How are things at the library? So you've come to the\"\n",
            "Target: b\"ll right Jim. Your quarterlies look very good. How are things at the library? So you've come to the \"\n"
          ]
        }
      ],
      "source": [
        "for input_example, target_example in dataset.take(1):\n",
        "    print(\"Input :\", text_from_ids(input_example).numpy())\n",
        "    print(\"Target:\", text_from_ids(target_example).numpy())"
      ]
    },
    {
      "cell_type": "markdown",
      "metadata": {
        "id": "MJdfPmdqzf-R"
      },
      "source": [
        "### Create training batches\n",
        "\n",
        "You used `tf.data` to split the text into manageable sequences. But before feeding this data into the model, you need to shuffle the data and pack it into batches."
      ]
    },
    {
      "cell_type": "code",
      "execution_count": 24,
      "metadata": {
        "id": "p2pGotuNzf-S",
        "outputId": "979788f6-27b1-4823-e0b5-8f87d7b390d2",
        "colab": {
          "base_uri": "https://localhost:8080/"
        }
      },
      "outputs": [
        {
          "output_type": "execute_result",
          "data": {
            "text/plain": [
              "<PrefetchDataset shapes: ((64, 100), (64, 100)), types: (tf.int64, tf.int64)>"
            ]
          },
          "metadata": {},
          "execution_count": 24
        }
      ],
      "source": [
        "# Batch size\n",
        "BATCH_SIZE = 64\n",
        "\n",
        "# Buffer size to shuffle the dataset\n",
        "# (TF data is designed to work with possibly infinite sequences,\n",
        "# so it doesn't attempt to shuffle the entire sequence in memory. Instead,\n",
        "# it maintains a buffer in which it shuffles elements).\n",
        "BUFFER_SIZE = 10000\n",
        "\n",
        "dataset = (\n",
        "    dataset\n",
        "    .shuffle(BUFFER_SIZE)\n",
        "    .batch(BATCH_SIZE, drop_remainder=True)\n",
        "    .prefetch(tf.data.experimental.AUTOTUNE))\n",
        "\n",
        "dataset"
      ]
    },
    {
      "cell_type": "markdown",
      "metadata": {
        "id": "r6oUuElIMgVx"
      },
      "source": [
        "## Build The Model"
      ]
    },
    {
      "cell_type": "markdown",
      "metadata": {
        "id": "m8gPwEjRzf-Z"
      },
      "source": [
        "This section defines the model as a `keras.Model` subclass (For details see [Making new Layers and Models via subclassing](https://www.tensorflow.org/guide/keras/custom_layers_and_models)). \n",
        "\n",
        "This model has three layers:\n",
        "\n",
        "* `tf.keras.layers.Embedding`: The input layer. A trainable lookup table that will map each character-ID to a vector with `embedding_dim` dimensions;\n",
        "* `tf.keras.layers.GRU`: A type of RNN with size `units=rnn_units` (You can also use an LSTM layer here.)\n",
        "* `tf.keras.layers.Dense`: The output layer, with `vocab_size` outputs. It outputs one logit for each character in the vocabulary. These are the log-likelihood of each character according to the model."
      ]
    },
    {
      "cell_type": "code",
      "execution_count": 25,
      "metadata": {
        "id": "zHT8cLh7EAsg"
      },
      "outputs": [],
      "source": [
        "# Length of the vocabulary in chars\n",
        "vocab_size = len(vocab)\n",
        "\n",
        "# The embedding dimension\n",
        "embedding_dim = 256\n",
        "\n",
        "# Number of RNN units\n",
        "rnn_units = 1024"
      ]
    },
    {
      "cell_type": "code",
      "execution_count": 26,
      "metadata": {
        "id": "wj8HQ2w8z4iO"
      },
      "outputs": [],
      "source": [
        "class MyModel(tf.keras.Model):\n",
        "  def __init__(self, vocab_size, embedding_dim, rnn_units):\n",
        "    super().__init__(self)\n",
        "    self.embedding = tf.keras.layers.Embedding(vocab_size, embedding_dim)\n",
        "    self.gru = tf.keras.layers.GRU(rnn_units,\n",
        "                                   return_sequences=True,\n",
        "                                   return_state=True)\n",
        "    self.dense = tf.keras.layers.Dense(vocab_size)\n",
        "\n",
        "  def call(self, inputs, states=None, return_state=False, training=False):\n",
        "    x = inputs\n",
        "    x = self.embedding(x, training=training)\n",
        "    if states is None:\n",
        "      states = self.gru.get_initial_state(x)\n",
        "    x, states = self.gru(x, initial_state=states, training=training)\n",
        "    x = self.dense(x, training=training)\n",
        "\n",
        "    if return_state:\n",
        "      return x, states\n",
        "    else:\n",
        "      return x"
      ]
    },
    {
      "cell_type": "code",
      "execution_count": 27,
      "metadata": {
        "id": "IX58Xj9z47Aw"
      },
      "outputs": [],
      "source": [
        "model = MyModel(\n",
        "    # Be sure the vocabulary size matches the `StringLookup` layers.\n",
        "    vocab_size=len(ids_from_chars.get_vocabulary()),\n",
        "    embedding_dim=embedding_dim,\n",
        "    rnn_units=rnn_units)"
      ]
    },
    {
      "cell_type": "markdown",
      "metadata": {
        "id": "RkA5upJIJ7W7"
      },
      "source": [
        "For each character the model looks up the embedding, runs the GRU one timestep with the embedding as input, and applies the dense layer to generate logits predicting the log-likelihood of the next character:\n",
        "\n",
        "![A drawing of the data passing through the model](https://github.com/tensorflow/text/blob/master/docs/tutorials/images/text_generation_training.png?raw=1)"
      ]
    },
    {
      "cell_type": "markdown",
      "metadata": {
        "id": "gKbfm04amhXk"
      },
      "source": [
        "Note: For training you could use a `keras.Sequential` model here. To  generate text later you'll need to manage the RNN's internal state. It's simpler to include the state input and output options upfront, than it is to rearrange the model architecture later. For more details see the [Keras RNN guide](https://www.tensorflow.org/guide/keras/rnn#rnn_state_reuse)."
      ]
    },
    {
      "cell_type": "markdown",
      "metadata": {
        "id": "-ubPo0_9Prjb"
      },
      "source": [
        "## Try the model\n",
        "\n",
        "Now run the model to see that it behaves as expected.\n",
        "\n",
        "First check the shape of the output:"
      ]
    },
    {
      "cell_type": "code",
      "execution_count": 28,
      "metadata": {
        "id": "C-_70kKAPrPU",
        "outputId": "a43c6d7a-63ca-4e73-937e-2657094dd7c9",
        "colab": {
          "base_uri": "https://localhost:8080/"
        }
      },
      "outputs": [
        {
          "output_type": "stream",
          "name": "stdout",
          "text": [
            "(64, 100, 85) # (batch_size, sequence_length, vocab_size)\n"
          ]
        }
      ],
      "source": [
        "for input_example_batch, target_example_batch in dataset.take(1):\n",
        "    example_batch_predictions = model(input_example_batch)\n",
        "    print(example_batch_predictions.shape, \"# (batch_size, sequence_length, vocab_size)\")"
      ]
    },
    {
      "cell_type": "markdown",
      "metadata": {
        "id": "Q6NzLBi4VM4o"
      },
      "source": [
        "In the above example the sequence length of the input is `100` but the model can be run on inputs of any length:"
      ]
    },
    {
      "cell_type": "code",
      "execution_count": 29,
      "metadata": {
        "id": "vPGmAAXmVLGC",
        "outputId": "1a2feccc-92ba-44eb-b20b-5c662b500ba0",
        "colab": {
          "base_uri": "https://localhost:8080/"
        }
      },
      "outputs": [
        {
          "output_type": "stream",
          "name": "stdout",
          "text": [
            "Model: \"my_model\"\n",
            "_________________________________________________________________\n",
            " Layer (type)                Output Shape              Param #   \n",
            "=================================================================\n",
            " embedding (Embedding)       multiple                  21760     \n",
            "                                                                 \n",
            " gru (GRU)                   multiple                  3938304   \n",
            "                                                                 \n",
            " dense (Dense)               multiple                  87125     \n",
            "                                                                 \n",
            "=================================================================\n",
            "Total params: 4,047,189\n",
            "Trainable params: 4,047,189\n",
            "Non-trainable params: 0\n",
            "_________________________________________________________________\n"
          ]
        }
      ],
      "source": [
        "model.summary()"
      ]
    },
    {
      "cell_type": "markdown",
      "metadata": {
        "id": "uwv0gEkURfx1"
      },
      "source": [
        "To get actual predictions from the model you need to sample from the output distribution, to get actual character indices. This distribution is defined by the logits over the character vocabulary.\n",
        "\n",
        "Note: It is important to _sample_ from this distribution as taking the _argmax_ of the distribution can easily get the model stuck in a loop.\n",
        "\n",
        "Try it for the first example in the batch:"
      ]
    },
    {
      "cell_type": "code",
      "execution_count": 30,
      "metadata": {
        "id": "4V4MfFg0RQJg"
      },
      "outputs": [],
      "source": [
        "sampled_indices = tf.random.categorical(example_batch_predictions[0], num_samples=1)\n",
        "sampled_indices = tf.squeeze(sampled_indices, axis=-1).numpy()"
      ]
    },
    {
      "cell_type": "markdown",
      "metadata": {
        "id": "QM1Vbxs_URw5"
      },
      "source": [
        "This gives us, at each timestep, a prediction of the next character index:"
      ]
    },
    {
      "cell_type": "code",
      "execution_count": 31,
      "metadata": {
        "id": "YqFMUQc_UFgM",
        "outputId": "7a15b6d4-219f-4672-eb87-67314fa378ca",
        "colab": {
          "base_uri": "https://localhost:8080/"
        }
      },
      "outputs": [
        {
          "output_type": "execute_result",
          "data": {
            "text/plain": [
              "array([33, 80,  8, 58, 71, 11, 32,  1, 81, 12, 49, 78, 78,  4, 65, 63, 69,\n",
              "       38, 78, 77,  6, 32, 67, 67, 20, 53, 44, 53, 14, 10, 47, 33, 29, 77,\n",
              "       25, 33, 35, 53, 55, 50, 77, 64, 54, 67, 75, 22, 26,  7, 25, 82, 70,\n",
              "       41, 32, 17, 51, 84, 39, 23,  4, 73, 20, 78, 84,  5, 51, 81, 67, 18,\n",
              "       36, 73, 11,  3, 12, 20, 60, 55, 22, 80, 57, 44, 47, 36,  0, 26, 25,\n",
              "       16, 14, 79, 63, 75, 72, 66, 66, 33,  1,  1, 12, 82, 14, 10])"
            ]
          },
          "metadata": {},
          "execution_count": 31
        }
      ],
      "source": [
        "sampled_indices"
      ]
    },
    {
      "cell_type": "markdown",
      "metadata": {
        "id": "LfLtsP3mUhCG"
      },
      "source": [
        "Decode these to see the text predicted by this untrained model:"
      ]
    },
    {
      "cell_type": "code",
      "execution_count": 32,
      "metadata": {
        "id": "xWcFwPwLSo05",
        "outputId": "630880eb-5c92-42aa-bab7-c0d5ba16aee9",
        "colab": {
          "base_uri": "https://localhost:8080/"
        }
      },
      "outputs": [
        {
          "output_type": "stream",
          "name": "stdout",
          "text": [
            "Input:\n",
            " b\"let somebody go today. This is, uh, the hardest thing I've ever had to do. Because it's very scary s\"\n",
            "\n",
            "Next Char Predictions:\n",
            " b'Cv(]m+B w,Stt$gekHts&Bii4WNW.*QC?s9CEWYTsfXiq6:\\'9xlKB1UzI7$o4tz%Uwi2Fo+\",4bY6v[NQF[UNK]:90.ueqnhhC  ,x.*'\n"
          ]
        }
      ],
      "source": [
        "print(\"Input:\\n\", text_from_ids(input_example_batch[0]).numpy())\n",
        "print()\n",
        "print(\"Next Char Predictions:\\n\", text_from_ids(sampled_indices).numpy())"
      ]
    },
    {
      "cell_type": "markdown",
      "metadata": {
        "id": "LJL0Q0YPY6Ee"
      },
      "source": [
        "## Train the model"
      ]
    },
    {
      "cell_type": "markdown",
      "metadata": {
        "id": "YCbHQHiaa4Ic"
      },
      "source": [
        "At this point the problem can be treated as a standard classification problem. Given the previous RNN state, and the input this time step, predict the class of the next character."
      ]
    },
    {
      "cell_type": "markdown",
      "metadata": {
        "id": "trpqTWyvk0nr"
      },
      "source": [
        "### Attach an optimizer, and a loss function"
      ]
    },
    {
      "cell_type": "markdown",
      "metadata": {
        "id": "UAjbjY03eiQ4"
      },
      "source": [
        "The standard `tf.keras.losses.sparse_categorical_crossentropy` loss function works in this case because it is applied across the last dimension of the predictions.\n",
        "\n",
        "Because your model returns logits, you need to set the `from_logits` flag.\n"
      ]
    },
    {
      "cell_type": "code",
      "execution_count": 33,
      "metadata": {
        "id": "ZOeWdgxNFDXq"
      },
      "outputs": [],
      "source": [
        "loss = tf.losses.SparseCategoricalCrossentropy(from_logits=True)"
      ]
    },
    {
      "cell_type": "code",
      "execution_count": 34,
      "metadata": {
        "id": "4HrXTACTdzY-",
        "outputId": "bf4011fc-bebd-4257-bd1c-f01401d8aa69",
        "colab": {
          "base_uri": "https://localhost:8080/"
        }
      },
      "outputs": [
        {
          "output_type": "stream",
          "name": "stdout",
          "text": [
            "Prediction shape:  (64, 100, 85)  # (batch_size, sequence_length, vocab_size)\n",
            "Mean loss:         tf.Tensor(4.4433217, shape=(), dtype=float32)\n"
          ]
        }
      ],
      "source": [
        "example_batch_mean_loss = loss(target_example_batch, example_batch_predictions)\n",
        "print(\"Prediction shape: \", example_batch_predictions.shape, \" # (batch_size, sequence_length, vocab_size)\")\n",
        "print(\"Mean loss:        \", example_batch_mean_loss)"
      ]
    },
    {
      "cell_type": "markdown",
      "metadata": {
        "id": "vkvUIneTFiow"
      },
      "source": [
        "A newly initialized model shouldn't be too sure of itself, the output logits should all have similar magnitudes. To confirm this you can check that the exponential of the mean loss is approximately equal to the vocabulary size. A much higher loss means the model is sure of its wrong answers, and is badly initialized:"
      ]
    },
    {
      "cell_type": "code",
      "execution_count": 35,
      "metadata": {
        "id": "MAJfS5YoFiHf",
        "outputId": "9d4ae0ad-2d76-4ff3-d6ef-84e9fb0a7bfd",
        "colab": {
          "base_uri": "https://localhost:8080/"
        }
      },
      "outputs": [
        {
          "output_type": "execute_result",
          "data": {
            "text/plain": [
              "85.05701"
            ]
          },
          "metadata": {},
          "execution_count": 35
        }
      ],
      "source": [
        "tf.exp(example_batch_mean_loss).numpy()"
      ]
    },
    {
      "cell_type": "markdown",
      "metadata": {
        "id": "jeOXriLcymww"
      },
      "source": [
        "Configure the training procedure using the `tf.keras.Model.compile` method. Use `tf.keras.optimizers.Adam` with default arguments and the loss function."
      ]
    },
    {
      "cell_type": "code",
      "execution_count": 36,
      "metadata": {
        "id": "DDl1_Een6rL0"
      },
      "outputs": [],
      "source": [
        "model.compile(optimizer='adam', loss=loss, metrics=['accuracy'])"
      ]
    },
    {
      "cell_type": "markdown",
      "metadata": {
        "id": "ieSJdchZggUj"
      },
      "source": [
        "### Configure checkpoints"
      ]
    },
    {
      "cell_type": "markdown",
      "metadata": {
        "id": "C6XBUUavgF56"
      },
      "source": [
        "Use a `tf.keras.callbacks.ModelCheckpoint` to ensure that checkpoints are saved during training:"
      ]
    },
    {
      "cell_type": "code",
      "execution_count": 37,
      "metadata": {
        "id": "W6fWTriUZP-n"
      },
      "outputs": [],
      "source": [
        "# Directory where the checkpoints will be saved\n",
        "checkpoint_dir = './training_checkpoints'\n",
        "# Name of the checkpoint files\n",
        "checkpoint_prefix = os.path.join(checkpoint_dir, \"ckpt_{epoch}\")\n",
        "\n",
        "checkpoint_callback = tf.keras.callbacks.ModelCheckpoint(\n",
        "    filepath=checkpoint_prefix,\n",
        "    save_weights_only=True)\n",
        "\n",
        "early_stop = tf.keras.callbacks.EarlyStopping(monitor='loss', restore_best_weights=True, patience=3)"
      ]
    },
    {
      "cell_type": "markdown",
      "metadata": {
        "id": "3Ky3F_BhgkTW"
      },
      "source": [
        "### Execute the training"
      ]
    },
    {
      "cell_type": "markdown",
      "metadata": {
        "id": "IxdOA-rgyGvs"
      },
      "source": [
        "To keep training time reasonable, use 10 epochs to train the model. In Colab, set the runtime to GPU for faster training."
      ]
    },
    {
      "cell_type": "code",
      "execution_count": 38,
      "metadata": {
        "id": "7yGBE2zxMMHs"
      },
      "outputs": [],
      "source": [
        "EPOCHS = 80"
      ]
    },
    {
      "cell_type": "code",
      "execution_count": 39,
      "metadata": {
        "id": "UK-hmKjYVoll",
        "outputId": "686ea48e-3bd9-4835-b821-a04dec1ba9a5",
        "colab": {
          "base_uri": "https://localhost:8080/"
        }
      },
      "outputs": [
        {
          "output_type": "stream",
          "name": "stdout",
          "text": [
            "Epoch 1/80\n",
            "130/130 [==============================] - 7s 40ms/step - loss: 2.8631 - accuracy: 0.2815\n",
            "Epoch 2/80\n",
            "130/130 [==============================] - 6s 40ms/step - loss: 2.0918 - accuracy: 0.4010\n",
            "Epoch 3/80\n",
            "130/130 [==============================] - 6s 40ms/step - loss: 1.8005 - accuracy: 0.4775\n",
            "Epoch 4/80\n",
            "130/130 [==============================] - 6s 41ms/step - loss: 1.6123 - accuracy: 0.5268\n",
            "Epoch 5/80\n",
            "130/130 [==============================] - 6s 41ms/step - loss: 1.4871 - accuracy: 0.5587\n",
            "Epoch 6/80\n",
            "130/130 [==============================] - 6s 41ms/step - loss: 1.4012 - accuracy: 0.5805\n",
            "Epoch 7/80\n",
            "130/130 [==============================] - 6s 40ms/step - loss: 1.3371 - accuracy: 0.5964\n",
            "Epoch 8/80\n",
            "130/130 [==============================] - 6s 40ms/step - loss: 1.2840 - accuracy: 0.6102\n",
            "Epoch 9/80\n",
            "130/130 [==============================] - 6s 41ms/step - loss: 1.2369 - accuracy: 0.6232\n",
            "Epoch 10/80\n",
            "130/130 [==============================] - 6s 41ms/step - loss: 1.1933 - accuracy: 0.6346\n",
            "Epoch 11/80\n",
            "130/130 [==============================] - 6s 40ms/step - loss: 1.1496 - accuracy: 0.6462\n",
            "Epoch 12/80\n",
            "130/130 [==============================] - 6s 40ms/step - loss: 1.1067 - accuracy: 0.6580\n",
            "Epoch 13/80\n",
            "130/130 [==============================] - 6s 41ms/step - loss: 1.0615 - accuracy: 0.6710\n",
            "Epoch 14/80\n",
            "130/130 [==============================] - 6s 40ms/step - loss: 1.0148 - accuracy: 0.6848\n",
            "Epoch 15/80\n",
            "130/130 [==============================] - 6s 40ms/step - loss: 0.9651 - accuracy: 0.6995\n",
            "Epoch 16/80\n",
            "130/130 [==============================] - 6s 40ms/step - loss: 0.9126 - accuracy: 0.7161\n",
            "Epoch 17/80\n",
            "130/130 [==============================] - 6s 40ms/step - loss: 0.8578 - accuracy: 0.7330\n",
            "Epoch 18/80\n",
            "130/130 [==============================] - 6s 39ms/step - loss: 0.8003 - accuracy: 0.7514\n",
            "Epoch 19/80\n",
            "130/130 [==============================] - 6s 40ms/step - loss: 0.7430 - accuracy: 0.7696\n",
            "Epoch 20/80\n",
            "130/130 [==============================] - 6s 42ms/step - loss: 0.6876 - accuracy: 0.7875\n",
            "Epoch 21/80\n",
            "130/130 [==============================] - 6s 40ms/step - loss: 0.6333 - accuracy: 0.8053\n",
            "Epoch 22/80\n",
            "130/130 [==============================] - 6s 40ms/step - loss: 0.5848 - accuracy: 0.8207\n",
            "Epoch 23/80\n",
            "130/130 [==============================] - 6s 40ms/step - loss: 0.5405 - accuracy: 0.8345\n",
            "Epoch 24/80\n",
            "130/130 [==============================] - 6s 41ms/step - loss: 0.5016 - accuracy: 0.8466\n",
            "Epoch 25/80\n",
            "130/130 [==============================] - 6s 40ms/step - loss: 0.4666 - accuracy: 0.8576\n",
            "Epoch 26/80\n",
            "130/130 [==============================] - 6s 40ms/step - loss: 0.4402 - accuracy: 0.8652\n",
            "Epoch 27/80\n",
            "130/130 [==============================] - 6s 40ms/step - loss: 0.4158 - accuracy: 0.8727\n",
            "Epoch 28/80\n",
            "130/130 [==============================] - 6s 40ms/step - loss: 0.3936 - accuracy: 0.8792\n",
            "Epoch 29/80\n",
            "130/130 [==============================] - 6s 40ms/step - loss: 0.3794 - accuracy: 0.8828\n",
            "Epoch 30/80\n",
            "130/130 [==============================] - 6s 41ms/step - loss: 0.3658 - accuracy: 0.8865\n",
            "Epoch 31/80\n",
            "130/130 [==============================] - 6s 40ms/step - loss: 0.3551 - accuracy: 0.8892\n",
            "Epoch 32/80\n",
            "130/130 [==============================] - 6s 40ms/step - loss: 0.3433 - accuracy: 0.8923\n",
            "Epoch 33/80\n",
            "130/130 [==============================] - 6s 41ms/step - loss: 0.3364 - accuracy: 0.8937\n",
            "Epoch 34/80\n",
            "130/130 [==============================] - 6s 41ms/step - loss: 0.3295 - accuracy: 0.8958\n",
            "Epoch 35/80\n",
            "130/130 [==============================] - 6s 40ms/step - loss: 0.3290 - accuracy: 0.8946\n",
            "Epoch 36/80\n",
            "130/130 [==============================] - 6s 40ms/step - loss: 0.3278 - accuracy: 0.8947\n",
            "Epoch 37/80\n",
            "130/130 [==============================] - 6s 40ms/step - loss: 0.3248 - accuracy: 0.8950\n",
            "Epoch 38/80\n",
            "130/130 [==============================] - 6s 41ms/step - loss: 0.3213 - accuracy: 0.8959\n",
            "Epoch 39/80\n",
            "130/130 [==============================] - 6s 39ms/step - loss: 0.3158 - accuracy: 0.8973\n",
            "Epoch 40/80\n",
            "130/130 [==============================] - 6s 41ms/step - loss: 0.3171 - accuracy: 0.8963\n",
            "Epoch 41/80\n",
            "130/130 [==============================] - 6s 39ms/step - loss: 0.3130 - accuracy: 0.8976\n",
            "Epoch 42/80\n",
            "130/130 [==============================] - 6s 39ms/step - loss: 0.3131 - accuracy: 0.8968\n",
            "Epoch 43/80\n",
            "130/130 [==============================] - 6s 39ms/step - loss: 0.3135 - accuracy: 0.8965\n",
            "Epoch 44/80\n",
            "130/130 [==============================] - 6s 39ms/step - loss: 0.3117 - accuracy: 0.8966\n",
            "Epoch 45/80\n",
            "130/130 [==============================] - 6s 39ms/step - loss: 0.3159 - accuracy: 0.8948\n",
            "Epoch 46/80\n",
            "130/130 [==============================] - 6s 39ms/step - loss: 0.3128 - accuracy: 0.8957\n",
            "Epoch 47/80\n",
            "130/130 [==============================] - 6s 39ms/step - loss: 0.3117 - accuracy: 0.8960\n",
            "Epoch 48/80\n",
            "130/130 [==============================] - 6s 39ms/step - loss: 0.3103 - accuracy: 0.8966\n",
            "Epoch 49/80\n",
            "130/130 [==============================] - 6s 39ms/step - loss: 0.3103 - accuracy: 0.8961\n",
            "Epoch 50/80\n",
            "130/130 [==============================] - 6s 39ms/step - loss: 0.3070 - accuracy: 0.8972\n",
            "Epoch 51/80\n",
            "130/130 [==============================] - 6s 39ms/step - loss: 0.3063 - accuracy: 0.8976\n",
            "Epoch 52/80\n",
            "130/130 [==============================] - 6s 39ms/step - loss: 0.3113 - accuracy: 0.8953\n",
            "Epoch 53/80\n",
            "130/130 [==============================] - 6s 39ms/step - loss: 0.3182 - accuracy: 0.8928\n",
            "Epoch 54/80\n",
            "130/130 [==============================] - 6s 39ms/step - loss: 0.3156 - accuracy: 0.8934\n"
          ]
        }
      ],
      "source": [
        "history = model.fit(dataset, epochs=EPOCHS, callbacks=[checkpoint_callback,early_stop])"
      ]
    },
    {
      "cell_type": "markdown",
      "metadata": {
        "id": "kKkD5M6eoSiN"
      },
      "source": [
        "## Generate text"
      ]
    },
    {
      "cell_type": "markdown",
      "metadata": {
        "id": "oIdQ8c8NvMzV"
      },
      "source": [
        "The simplest way to generate text with this model is to run it in a loop, and keep track of the model's internal state as you execute it.\n",
        "\n",
        "![To generate text the model's output is fed back to the input](https://github.com/tensorflow/text/blob/master/docs/tutorials/images/text_generation_sampling.png?raw=1)\n",
        "\n",
        "Each time you call the model you pass in some text and an internal state. The model returns a prediction for the next character and its new state. Pass the prediction and state back in to continue generating text.\n"
      ]
    },
    {
      "cell_type": "markdown",
      "metadata": {
        "id": "DjGz1tDkzf-u"
      },
      "source": [
        "The following makes a single step prediction:"
      ]
    },
    {
      "cell_type": "code",
      "execution_count": 75,
      "metadata": {
        "id": "iSBU1tHmlUSs"
      },
      "outputs": [],
      "source": [
        "class OneStep(tf.keras.Model):\n",
        "  def __init__(self, model, chars_from_ids, ids_from_chars, temperature=0.9):\n",
        "    super().__init__()\n",
        "    self.temperature = temperature\n",
        "    self.model = model\n",
        "    self.chars_from_ids = chars_from_ids\n",
        "    self.ids_from_chars = ids_from_chars\n",
        "\n",
        "    # Create a mask to prevent \"[UNK]\" from being generated.\n",
        "    skip_ids = self.ids_from_chars(['[UNK]'])[:, None]\n",
        "    sparse_mask = tf.SparseTensor(\n",
        "        # Put a -inf at each bad index.\n",
        "        values=[-float('inf')]*len(skip_ids),\n",
        "        indices=skip_ids,\n",
        "        # Match the shape to the vocabulary\n",
        "        dense_shape=[len(ids_from_chars.get_vocabulary())])\n",
        "    self.prediction_mask = tf.sparse.to_dense(sparse_mask)\n",
        "\n",
        "  @tf.function\n",
        "  def generate_one_step(self, inputs, states=None):\n",
        "    # Convert strings to token IDs.\n",
        "    input_chars = tf.strings.unicode_split(inputs, 'UTF-8')\n",
        "    input_ids = self.ids_from_chars(input_chars).to_tensor()\n",
        "\n",
        "    # Run the model.\n",
        "    # predicted_logits.shape is [batch, char, next_char_logits]\n",
        "    predicted_logits, states = self.model(inputs=input_ids, states=states,\n",
        "                                          return_state=True)\n",
        "    # Only use the last prediction.\n",
        "    predicted_logits = predicted_logits[:, -1, :]\n",
        "    predicted_logits = predicted_logits/self.temperature\n",
        "    # Apply the prediction mask: prevent \"[UNK]\" from being generated.\n",
        "    predicted_logits = predicted_logits + self.prediction_mask\n",
        "\n",
        "    # Sample the output logits to generate token IDs.\n",
        "    predicted_ids = tf.random.categorical(predicted_logits, num_samples=1)\n",
        "    predicted_ids = tf.squeeze(predicted_ids, axis=-1)\n",
        "\n",
        "    # Convert from token ids to characters\n",
        "    predicted_chars = self.chars_from_ids(predicted_ids)\n",
        "\n",
        "    # Return the characters and model state.\n",
        "    return predicted_chars, states"
      ]
    },
    {
      "cell_type": "code",
      "execution_count": 81,
      "metadata": {
        "id": "fqMOuDutnOxK"
      },
      "outputs": [],
      "source": [
        "one_step_model = OneStep(model, chars_from_ids, ids_from_chars)"
      ]
    },
    {
      "cell_type": "code",
      "execution_count": 85,
      "metadata": {
        "id": "ST7PSyk9t1mT",
        "outputId": "ee39114d-6d29-4da8-9da5-2c52cfaac9e7",
        "colab": {
          "base_uri": "https://localhost:8080/"
        }
      },
      "outputs": [
        {
          "output_type": "stream",
          "name": "stdout",
          "text": [
            "Hello, I'm Michael Scott. I'm it a too for a one You brought you there was pretty moss add building, and those who are kneed into  \n",
            "\n",
            "________________________________________________________________________________\n",
            "\n",
            "Run time: 0.19162797927856445\n"
          ]
        }
      ],
      "source": [
        "start = time.time()\n",
        "states = None\n",
        "next_char = tf.constant([\"Hello, I'm Michael Scott.\"])\n",
        "result = [next_char]\n",
        "\n",
        "for n in range(105):\n",
        "  next_char, states = one_step_model.generate_one_step(next_char, states=states)\n",
        "  result.append(next_char)\n",
        "\n",
        "result = tf.strings.join(result)\n",
        "end = time.time()\n",
        "print(result[0].numpy().decode('utf-8'), '\\n\\n' + '_'*80)\n",
        "print('\\nRun time:', end - start)"
      ]
    },
    {
      "cell_type": "code",
      "source": [
        "# from google.colab import files\n",
        "# import os\n",
        "\n",
        "# dir_to_zip = 'RNN_Model/' #@param {type: \"string\"}\n",
        "# output_filename = 'files.zip' #@param {type: \"string\"}\n",
        "# delete_dir_after_download = \"No\"  #@param ['Yes', 'No']\n",
        "\n",
        "# os.system( \"zip -r {} {}\".format( output_filename , dir_to_zip ) )\n",
        "\n",
        "# if delete_dir_after_download == \"Yes\":\n",
        "#     os.system( \"rm -r {}\".format( dir_to_zip ) )\n",
        "\n",
        "# files.download( output_filename )"
      ],
      "metadata": {
        "id": "IlfNHAm9vSxp"
      },
      "execution_count": 43,
      "outputs": []
    },
    {
      "cell_type": "code",
      "execution_count": 44,
      "metadata": {
        "id": "ZkLu7Y8UCMT7"
      },
      "outputs": [],
      "source": [
        "# start = time.time()\n",
        "# states = None\n",
        "# next_char = tf.constant(['ROMEO:', 'ROMEO:', 'ROMEO:', 'ROMEO:', 'ROMEO:'])\n",
        "# result = [next_char]\n",
        "\n",
        "# for n in range(1000):\n",
        "#   next_char, states = one_step_model.generate_one_step(next_char, states=states)\n",
        "#   result.append(next_char)\n",
        "\n",
        "# result = tf.strings.join(result)\n",
        "# end = time.time()\n",
        "# print(result, '\\n\\n' + '_'*80)\n",
        "# print('\\nRun time:', end - start)"
      ]
    },
    {
      "cell_type": "markdown",
      "metadata": {
        "id": "UlUQzwu6EXam"
      },
      "source": [
        "## Export the generator\n",
        "\n",
        "This single-step model can easily be [saved and restored](https://www.tensorflow.org/guide/saved_model), allowing you to use it anywhere a `tf.saved_model` is accepted."
      ]
    },
    {
      "cell_type": "code",
      "execution_count": 45,
      "metadata": {
        "id": "3Grk32H_CzsC"
      },
      "outputs": [],
      "source": [
        "# tf.saved_model.save(one_step_model, 'RNN_Model')\n",
        "# one_step_reloaded = tf.saved_model.load('RNN_Model')"
      ]
    },
    {
      "cell_type": "code",
      "execution_count": 46,
      "metadata": {
        "id": "_Z9bb_wX6Uuu"
      },
      "outputs": [],
      "source": [
        "# states = None\n",
        "# next_char = tf.constant(['Dwight'])\n",
        "# result = [next_char]\n",
        "\n",
        "# for n in range(100):\n",
        "#   next_char, states = one_step_reloaded.generate_one_step(next_char, states=states)\n",
        "#   result.append(next_char)\n",
        "\n",
        "# print(tf.strings.join(result)[0].numpy().decode(\"utf-8\"))"
      ]
    },
    {
      "cell_type": "markdown",
      "metadata": {
        "id": "Y4QwTjAM6A2O"
      },
      "source": [
        "## Advanced: Customized Training\n",
        "\n",
        "The above training procedure is simple, but does not give you much control.\n",
        "It uses teacher-forcing which prevents bad predictions from being fed back to the model, so the model never learns to recover from mistakes.\n",
        "\n",
        "So now that you've seen how to run the model manually next you'll implement the training loop. This gives a starting point if, for example, you want to implement _curriculum  learning_ to help stabilize the model's open-loop output.\n",
        "\n",
        "The most important part of a custom training loop is the train step function.\n",
        "\n",
        "Use `tf.GradientTape` to track the gradients. You can learn more about this approach by reading the [eager execution guide](https://www.tensorflow.org/guide/eager).\n",
        "\n",
        "The basic procedure is:\n",
        "\n",
        "1. Execute the model and calculate the loss under a `tf.GradientTape`.\n",
        "2. Calculate the updates and apply them to the model using the optimizer."
      ]
    },
    {
      "cell_type": "code",
      "execution_count": 47,
      "metadata": {
        "id": "x0pZ101hjwW0"
      },
      "outputs": [],
      "source": [
        "# class CustomTraining(MyModel):\n",
        "#   @tf.function\n",
        "#   def train_step(self, inputs):\n",
        "#       inputs, labels = inputs\n",
        "#       with tf.GradientTape() as tape:\n",
        "#           predictions = self(inputs, training=True)\n",
        "#           loss = self.loss(labels, predictions)\n",
        "#       grads = tape.gradient(loss, model.trainable_variables)\n",
        "#       self.optimizer.apply_gradients(zip(grads, model.trainable_variables))\n",
        "\n",
        "#       return {'loss': loss}"
      ]
    },
    {
      "cell_type": "markdown",
      "metadata": {
        "id": "4Oc-eJALcK8B"
      },
      "source": [
        "The above implementation of the `train_step` method follows [Keras' `train_step` conventions](https://www.tensorflow.org/guide/keras/customizing_what_happens_in_fit). This is optional, but it allows you to change the behavior of the train step and still use keras' `Model.compile` and `Model.fit` methods."
      ]
    },
    {
      "cell_type": "code",
      "execution_count": 48,
      "metadata": {
        "id": "XKyWiZ_Lj7w5"
      },
      "outputs": [],
      "source": [
        "# model = CustomTraining(\n",
        "#     vocab_size=len(ids_from_chars.get_vocabulary()),\n",
        "#     embedding_dim=embedding_dim,\n",
        "#     rnn_units=rnn_units)"
      ]
    },
    {
      "cell_type": "code",
      "execution_count": 49,
      "metadata": {
        "id": "U817KUm7knlm"
      },
      "outputs": [],
      "source": [
        "# model.compile(optimizer = tf.keras.optimizers.Adam(),\n",
        "#               loss=tf.keras.losses.SparseCategoricalCrossentropy(from_logits=True))"
      ]
    },
    {
      "cell_type": "code",
      "execution_count": 50,
      "metadata": {
        "id": "o694aoBPnEi9"
      },
      "outputs": [],
      "source": [
        "# model.fit(dataset, epochs=1)"
      ]
    },
    {
      "cell_type": "markdown",
      "metadata": {
        "id": "W8nAtKHVoInR"
      },
      "source": [
        "Or if you need more control, you can write your own complete custom training loop:"
      ]
    },
    {
      "cell_type": "code",
      "execution_count": 51,
      "metadata": {
        "id": "d4tSNwymzf-q"
      },
      "outputs": [],
      "source": [
        "# EPOCHS = 10\n",
        "\n",
        "# mean = tf.metrics.Mean()\n",
        "\n",
        "# for epoch in range(EPOCHS):\n",
        "#     start = time.time()\n",
        "\n",
        "#     mean.reset_states()\n",
        "#     for (batch_n, (inp, target)) in enumerate(dataset):\n",
        "#         logs = model.train_step([inp, target])\n",
        "#         mean.update_state(logs['loss'])\n",
        "\n",
        "#         if batch_n % 50 == 0:\n",
        "#             template = f\"Epoch {epoch+1} Batch {batch_n} Loss {logs['loss']:.4f}\"\n",
        "#             print(template)\n",
        "\n",
        "#     # saving (checkpoint) the model every 5 epochs\n",
        "#     if (epoch + 1) % 5 == 0:\n",
        "#         model.save_weights(checkpoint_prefix.format(epoch=epoch))\n",
        "\n",
        "#     print()\n",
        "#     print(f'Epoch {epoch+1} Loss: {mean.result().numpy():.4f}')\n",
        "#     print(f'Time taken for 1 epoch {time.time() - start:.2f} sec')\n",
        "#     print(\"_\"*80)\n",
        "\n",
        "# model.save_weights(checkpoint_prefix.format(epoch=epoch))"
      ]
    }
  ],
  "metadata": {
    "accelerator": "GPU",
    "colab": {
      "collapsed_sections": [],
      "name": "text_generation_michael.ipynb",
      "provenance": [],
      "machine_shape": "hm"
    },
    "kernelspec": {
      "display_name": "Python 3",
      "name": "python3"
    }
  },
  "nbformat": 4,
  "nbformat_minor": 0
}
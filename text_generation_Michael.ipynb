{
 "cells": [
  {
   "cell_type": "code",
   "execution_count": null,
   "metadata": {
    "id": "yG_n40gFzf9s"
   },
   "outputs": [],
   "source": [
    "import tensorflow as tf\n",
    "import numpy as np\n",
    "import os\n",
    "import time\n",
    "import pathlib"
   ]
  },
  {
   "cell_type": "code",
   "execution_count": null,
   "metadata": {
    "id": "pD_55cOxLkAb"
   },
   "outputs": [],
   "source": [
    "path_to_file = 'michael_scripts.txt'"
   ]
  },
  {
   "cell_type": "markdown",
   "metadata": {
    "id": "UHjdCjDuSvX_"
   },
   "source": [
    "### Read the data\n",
    "\n",
    "First, look in the text:"
   ]
  },
  {
   "cell_type": "code",
   "execution_count": null,
   "metadata": {
    "colab": {
     "base_uri": "https://localhost:8080/"
    },
    "id": "aavnuByVymwK",
    "outputId": "7aed0e5a-09fe-445c-dbca-5bcd1be769bf"
   },
   "outputs": [
    {
     "name": "stdout",
     "output_type": "stream",
     "text": [
      "Length of text: 844866 characters\n"
     ]
    }
   ],
   "source": [
    "# Read, then decode for py2 compat.\n",
    "text = open(path_to_file, 'rb').read().decode(encoding='utf-8')\n",
    "# length of text is the number of characters in it\n",
    "print(f'Length of text: {len(text)} characters')"
   ]
  },
  {
   "cell_type": "code",
   "execution_count": null,
   "metadata": {
    "colab": {
     "base_uri": "https://localhost:8080/"
    },
    "id": "Duhg9NrUymwO",
    "outputId": "c2bd6c85-45ab-4d00-8b2a-7f1727073004"
   },
   "outputs": [
    {
     "name": "stdout",
     "output_type": "stream",
     "text": [
      "All right Jim. Your quarterlies look very good. How are things at the library? So you've come to the master for guidance? Is this what you're saying, grasshopper? All right. Well, let me show you how it's done. So that's the way it's done. I've, uh, \n"
     ]
    }
   ],
   "source": [
    "# Take a look at the first 250 characters in text\n",
    "print(text[:250])"
   ]
  },
  {
   "cell_type": "code",
   "execution_count": null,
   "metadata": {
    "colab": {
     "base_uri": "https://localhost:8080/"
    },
    "id": "IlCgQBRVymwR",
    "outputId": "d1ef329b-ce7a-44af-a6d3-91de2c24d7e2"
   },
   "outputs": [
    {
     "name": "stdout",
     "output_type": "stream",
     "text": [
      "84 unique characters\n"
     ]
    }
   ],
   "source": [
    "# The unique characters in the file\n",
    "vocab = sorted(set(text))\n",
    "print(f'{len(vocab)} unique characters')"
   ]
  },
  {
   "cell_type": "code",
   "execution_count": null,
   "metadata": {
    "colab": {
     "base_uri": "https://localhost:8080/"
    },
    "id": "a86OoYtO01go",
    "outputId": "6d23a40b-3f33-4f4f-eca5-ae1957055d9f"
   },
   "outputs": [
    {
     "data": {
      "text/plain": [
       "<tf.RaggedTensor [[b'a', b'b', b'c', b'd', b'e', b'f', b'g'], [b'x', b'y', b'z']]>"
      ]
     },
     "execution_count": 9,
     "metadata": {},
     "output_type": "execute_result"
    }
   ],
   "source": [
    "example_texts = ['abcdefg', 'xyz']\n",
    "\n",
    "chars = tf.strings.unicode_split(example_texts, input_encoding='UTF-8')\n",
    "chars"
   ]
  },
  {
   "cell_type": "markdown",
   "metadata": {
    "id": "1s4f1q3iqY8f"
   },
   "source": [
    "Now create the `tf.keras.layers.StringLookup` layer:"
   ]
  },
  {
   "cell_type": "code",
   "execution_count": null,
   "metadata": {
    "id": "6GMlCe3qzaL9"
   },
   "outputs": [],
   "source": [
    "ids_from_chars = tf.keras.layers.StringLookup(\n",
    "    vocabulary=list(vocab), mask_token=None)"
   ]
  },
  {
   "cell_type": "markdown",
   "metadata": {
    "id": "ZmX_jbgQqfOi"
   },
   "source": [
    "It converts from tokens to character IDs:"
   ]
  },
  {
   "cell_type": "code",
   "execution_count": null,
   "metadata": {
    "colab": {
     "base_uri": "https://localhost:8080/"
    },
    "id": "WLv5Q_2TC2pc",
    "outputId": "db096923-ed92-4582-a0ea-049f6b038c64"
   },
   "outputs": [
    {
     "data": {
      "text/plain": [
       "<tf.RaggedTensor [[59, 60, 61, 62, 63, 64, 65], [82, 83, 84]]>"
      ]
     },
     "execution_count": 10,
     "metadata": {},
     "output_type": "execute_result"
    }
   ],
   "source": [
    "ids = ids_from_chars(chars)\n",
    "ids"
   ]
  },
  {
   "cell_type": "code",
   "execution_count": null,
   "metadata": {
    "id": "Wd2m3mqkDjRj"
   },
   "outputs": [],
   "source": [
    "chars_from_ids = tf.keras.layers.StringLookup(\n",
    "    vocabulary=ids_from_chars.get_vocabulary(), invert=True, mask_token=None)"
   ]
  },
  {
   "cell_type": "markdown",
   "metadata": {
    "id": "pqTDDxS-s-H8"
   },
   "source": [
    "This layer recovers the characters from the vectors of IDs, and returns them as a `tf.RaggedTensor` of characters:"
   ]
  },
  {
   "cell_type": "code",
   "execution_count": null,
   "metadata": {
    "colab": {
     "base_uri": "https://localhost:8080/"
    },
    "id": "c2GCh0ySD44s",
    "outputId": "77fb2af6-5bc2-4a42-9779-0572bd99e6df"
   },
   "outputs": [
    {
     "data": {
      "text/plain": [
       "<tf.RaggedTensor [[b'a', b'b', b'c', b'd', b'e', b'f', b'g'], [b'x', b'y', b'z']]>"
      ]
     },
     "execution_count": 12,
     "metadata": {},
     "output_type": "execute_result"
    }
   ],
   "source": [
    "chars = chars_from_ids(ids)\n",
    "chars"
   ]
  },
  {
   "cell_type": "markdown",
   "metadata": {
    "id": "-FeW5gqutT3o"
   },
   "source": [
    "You can `tf.strings.reduce_join` to join the characters back into strings. "
   ]
  },
  {
   "cell_type": "code",
   "execution_count": null,
   "metadata": {
    "colab": {
     "base_uri": "https://localhost:8080/"
    },
    "id": "zxYI-PeltqKP",
    "outputId": "f1c693c0-5c3a-4dbf-d72e-67c25f41aab6"
   },
   "outputs": [
    {
     "data": {
      "text/plain": [
       "array([b'abcdefg', b'xyz'], dtype=object)"
      ]
     },
     "execution_count": 13,
     "metadata": {},
     "output_type": "execute_result"
    }
   ],
   "source": [
    "tf.strings.reduce_join(chars, axis=-1).numpy()"
   ]
  },
  {
   "cell_type": "code",
   "execution_count": null,
   "metadata": {
    "id": "w5apvBDn9Ind"
   },
   "outputs": [],
   "source": [
    "def text_from_ids(ids):\n",
    "  return tf.strings.reduce_join(chars_from_ids(ids), axis=-1)"
   ]
  },
  {
   "cell_type": "code",
   "execution_count": null,
   "metadata": {
    "colab": {
     "base_uri": "https://localhost:8080/"
    },
    "id": "UopbsKi88tm5",
    "outputId": "1802ca43-f3e1-4cd7-94c5-057a4525df09"
   },
   "outputs": [
    {
     "data": {
      "text/plain": [
       "<tf.Tensor: shape=(844866,), dtype=int64, numpy=array([31, 70, 70, ..., 59, 71, 14])>"
      ]
     },
     "execution_count": 15,
     "metadata": {},
     "output_type": "execute_result"
    }
   ],
   "source": [
    "all_ids = ids_from_chars(tf.strings.unicode_split(text, 'UTF-8'))\n",
    "all_ids"
   ]
  },
  {
   "cell_type": "code",
   "execution_count": null,
   "metadata": {
    "id": "qmxrYDCTy-eL"
   },
   "outputs": [],
   "source": [
    "ids_dataset = tf.data.Dataset.from_tensor_slices(all_ids)"
   ]
  },
  {
   "cell_type": "code",
   "execution_count": null,
   "metadata": {
    "colab": {
     "base_uri": "https://localhost:8080/"
    },
    "id": "cjH5v45-yqqH",
    "outputId": "87788c86-da09-43d5-a51e-9eba6b729cd6"
   },
   "outputs": [
    {
     "name": "stdout",
     "output_type": "stream",
     "text": [
      "A\n",
      "l\n",
      "l\n",
      " \n",
      "r\n",
      "i\n",
      "g\n",
      "h\n",
      "t\n",
      " \n"
     ]
    }
   ],
   "source": [
    "for ids in ids_dataset.take(10):\n",
    "    print(chars_from_ids(ids).numpy().decode('utf-8'))"
   ]
  },
  {
   "cell_type": "code",
   "execution_count": null,
   "metadata": {
    "id": "C-G2oaTxy6km"
   },
   "outputs": [],
   "source": [
    "seq_length = 100\n",
    "examples_per_epoch = len(text)//(seq_length+1)"
   ]
  },
  {
   "cell_type": "markdown",
   "metadata": {
    "id": "-ZSYAcQV8OGP"
   },
   "source": [
    "The `batch` method lets you easily convert these individual characters to sequences of the desired size."
   ]
  },
  {
   "cell_type": "code",
   "execution_count": null,
   "metadata": {
    "colab": {
     "base_uri": "https://localhost:8080/"
    },
    "id": "BpdjRO2CzOfZ",
    "outputId": "b3c099bb-87bc-4977-8e5f-909b0b0395c8"
   },
   "outputs": [
    {
     "name": "stdout",
     "output_type": "stream",
     "text": [
      "tf.Tensor(\n",
      "[b'A' b'l' b'l' b' ' b'r' b'i' b'g' b'h' b't' b' ' b'J' b'i' b'm' b'.'\n",
      " b' ' b'Y' b'o' b'u' b'r' b' ' b'q' b'u' b'a' b'r' b't' b'e' b'r' b'l'\n",
      " b'i' b'e' b's' b' ' b'l' b'o' b'o' b'k' b' ' b'v' b'e' b'r' b'y' b' '\n",
      " b'g' b'o' b'o' b'd' b'.' b' ' b'H' b'o' b'w' b' ' b'a' b'r' b'e' b' '\n",
      " b't' b'h' b'i' b'n' b'g' b's' b' ' b'a' b't' b' ' b't' b'h' b'e' b' '\n",
      " b'l' b'i' b'b' b'r' b'a' b'r' b'y' b'?' b' ' b'S' b'o' b' ' b'y' b'o'\n",
      " b'u' b\"'\" b'v' b'e' b' ' b'c' b'o' b'm' b'e' b' ' b't' b'o' b' ' b't'\n",
      " b'h' b'e' b' '], shape=(101,), dtype=string)\n"
     ]
    }
   ],
   "source": [
    "sequences = ids_dataset.batch(seq_length+1, drop_remainder=True)\n",
    "\n",
    "for seq in sequences.take(1):\n",
    "  print(chars_from_ids(seq))"
   ]
  },
  {
   "cell_type": "markdown",
   "metadata": {
    "id": "5PHW902-4oZt"
   },
   "source": [
    "It's easier to see what this is doing if you join the tokens back into strings:"
   ]
  },
  {
   "cell_type": "code",
   "execution_count": null,
   "metadata": {
    "colab": {
     "base_uri": "https://localhost:8080/"
    },
    "id": "QO32cMWu4a06",
    "outputId": "bb3b7e19-84bc-4a08-a880-88845bd66f22"
   },
   "outputs": [
    {
     "name": "stdout",
     "output_type": "stream",
     "text": [
      "b\"All right Jim. Your quarterlies look very good. How are things at the library? So you've come to the \"\n",
      "b\"master for guidance? Is this what you're saying, grasshopper? All right. Well, let me show you how it\"\n",
      "b\"'s done. So that's the way it's done. I've, uh, I've been at Dunder Mifflin for 12 years, the last fo\"\n",
      "b'ur as Regional Manager. If you want to come through here... See we have the entire floor. So this is '\n",
      "b'my kingdom, as far as the eye can see. This is our receptionist, Pam. Pam! Pam-Pam! Pam Beesly. Pam h'\n"
     ]
    }
   ],
   "source": [
    "for seq in sequences.take(5):\n",
    "  print(text_from_ids(seq).numpy())"
   ]
  },
  {
   "cell_type": "markdown",
   "metadata": {
    "id": "UbLcIPBj_mWZ"
   },
   "source": [
    "For training you'll need a dataset of `(input, label)` pairs. Where `input` and \n",
    "`label` are sequences. At each time step the input is the current character and the label is the next character. \n",
    "\n",
    "Here's a function that takes a sequence as input, duplicates, and shifts it to align the input and label for each timestep:"
   ]
  },
  {
   "cell_type": "code",
   "execution_count": null,
   "metadata": {
    "id": "9NGu-FkO_kYU"
   },
   "outputs": [],
   "source": [
    "def split_input_target(sequence):\n",
    "    input_text = sequence[:-1]\n",
    "    target_text = sequence[1:]\n",
    "    return input_text, target_text"
   ]
  },
  {
   "cell_type": "code",
   "execution_count": null,
   "metadata": {
    "colab": {
     "base_uri": "https://localhost:8080/"
    },
    "id": "WxbDTJTw5u_P",
    "outputId": "44562a66-64f9-41c9-9aea-e9aa74e11bf1"
   },
   "outputs": [
    {
     "data": {
      "text/plain": [
       "(['T', 'e', 'n', 's', 'o', 'r', 'f', 'l', 'o'],\n",
       " ['e', 'n', 's', 'o', 'r', 'f', 'l', 'o', 'w'])"
      ]
     },
     "execution_count": 22,
     "metadata": {},
     "output_type": "execute_result"
    }
   ],
   "source": [
    "split_input_target(list(\"Tensorflow\"))"
   ]
  },
  {
   "cell_type": "code",
   "execution_count": null,
   "metadata": {
    "id": "B9iKPXkw5xwa"
   },
   "outputs": [],
   "source": [
    "dataset = sequences.map(split_input_target)"
   ]
  },
  {
   "cell_type": "code",
   "execution_count": null,
   "metadata": {
    "colab": {
     "base_uri": "https://localhost:8080/"
    },
    "id": "GNbw-iR0ymwj",
    "outputId": "07417a67-ca0a-4237-ca30-bfdea277491c"
   },
   "outputs": [
    {
     "name": "stdout",
     "output_type": "stream",
     "text": [
      "Input : b\"All right Jim. Your quarterlies look very good. How are things at the library? So you've come to the\"\n",
      "Target: b\"ll right Jim. Your quarterlies look very good. How are things at the library? So you've come to the \"\n"
     ]
    }
   ],
   "source": [
    "for input_example, target_example in dataset.take(1):\n",
    "    print(\"Input :\", text_from_ids(input_example).numpy())\n",
    "    print(\"Target:\", text_from_ids(target_example).numpy())"
   ]
  },
  {
   "cell_type": "markdown",
   "metadata": {
    "id": "MJdfPmdqzf-R"
   },
   "source": [
    "### Create training batches\n",
    "\n",
    "You used `tf.data` to split the text into manageable sequences. But before feeding this data into the model, you need to shuffle the data and pack it into batches."
   ]
  },
  {
   "cell_type": "code",
   "execution_count": null,
   "metadata": {
    "colab": {
     "base_uri": "https://localhost:8080/"
    },
    "id": "p2pGotuNzf-S",
    "outputId": "9c7b50cc-7e57-4ac3-afd5-72c08dd93294"
   },
   "outputs": [
    {
     "data": {
      "text/plain": [
       "<PrefetchDataset shapes: ((64, 100), (64, 100)), types: (tf.int64, tf.int64)>"
      ]
     },
     "execution_count": 25,
     "metadata": {},
     "output_type": "execute_result"
    }
   ],
   "source": [
    "# Batch size\n",
    "BATCH_SIZE = 64\n",
    "\n",
    "# Buffer size to shuffle the dataset\n",
    "# (TF data is designed to work with possibly infinite sequences,\n",
    "# so it doesn't attempt to shuffle the entire sequence in memory. Instead,\n",
    "# it maintains a buffer in which it shuffles elements).\n",
    "BUFFER_SIZE = 10000\n",
    "\n",
    "dataset = (\n",
    "    dataset\n",
    "    .shuffle(BUFFER_SIZE)\n",
    "    .batch(BATCH_SIZE, drop_remainder=True)\n",
    "    .prefetch(tf.data.experimental.AUTOTUNE))\n",
    "\n",
    "dataset"
   ]
  },
  {
   "cell_type": "markdown",
   "metadata": {
    "id": "r6oUuElIMgVx"
   },
   "source": [
    "## Build The Model"
   ]
  },
  {
   "cell_type": "markdown",
   "metadata": {
    "id": "m8gPwEjRzf-Z"
   },
   "source": [
    "This section defines the model as a `keras.Model` subclass (For details see [Making new Layers and Models via subclassing](https://www.tensorflow.org/guide/keras/custom_layers_and_models)). \n",
    "\n",
    "This model has three layers:\n",
    "\n",
    "* `tf.keras.layers.Embedding`: The input layer. A trainable lookup table that will map each character-ID to a vector with `embedding_dim` dimensions;\n",
    "* `tf.keras.layers.GRU`: A type of RNN with size `units=rnn_units` (You can also use an LSTM layer here.)\n",
    "* `tf.keras.layers.Dense`: The output layer, with `vocab_size` outputs. It outputs one logit for each character in the vocabulary. These are the log-likelihood of each character according to the model."
   ]
  },
  {
   "cell_type": "code",
   "execution_count": null,
   "metadata": {
    "id": "zHT8cLh7EAsg"
   },
   "outputs": [],
   "source": [
    "# Length of the vocabulary in chars\n",
    "vocab_size = len(vocab)\n",
    "\n",
    "# The embedding dimension\n",
    "embedding_dim = 256\n",
    "\n",
    "# Number of RNN units\n",
    "rnn_units = 1024"
   ]
  },
  {
   "cell_type": "code",
   "execution_count": null,
   "metadata": {
    "id": "wj8HQ2w8z4iO"
   },
   "outputs": [],
   "source": [
    "class MyModel(tf.keras.Model):\n",
    "  def __init__(self, vocab_size, embedding_dim, rnn_units):\n",
    "    super().__init__(self)\n",
    "    self.embedding = tf.keras.layers.Embedding(vocab_size, embedding_dim)\n",
    "    self.gru = tf.keras.layers.GRU(rnn_units,\n",
    "                                   return_sequences=True,\n",
    "                                   return_state=True)\n",
    "    self.dense = tf.keras.layers.Dense(vocab_size)\n",
    "\n",
    "  def call(self, inputs, states=None, return_state=False, training=False):\n",
    "    x = inputs\n",
    "    x = self.embedding(x, training=training)\n",
    "    if states is None:\n",
    "      states = self.gru.get_initial_state(x)\n",
    "    x, states = self.gru(x, initial_state=states, training=training)\n",
    "    x = self.dense(x, training=training)\n",
    "\n",
    "    if return_state:\n",
    "      return x, states\n",
    "    else:\n",
    "      return x"
   ]
  },
  {
   "cell_type": "code",
   "execution_count": null,
   "metadata": {
    "id": "IX58Xj9z47Aw"
   },
   "outputs": [],
   "source": [
    "model = MyModel(\n",
    "    # Be sure the vocabulary size matches the `StringLookup` layers.\n",
    "    vocab_size=len(ids_from_chars.get_vocabulary()),\n",
    "    embedding_dim=embedding_dim,\n",
    "    rnn_units=rnn_units)"
   ]
  },
  {
   "cell_type": "markdown",
   "metadata": {
    "id": "RkA5upJIJ7W7"
   },
   "source": [
    "For each character the model looks up the embedding, runs the GRU one timestep with the embedding as input, and applies the dense layer to generate logits predicting the log-likelihood of the next character:\n",
    "\n",
    "![A drawing of the data passing through the model](https://github.com/tensorflow/text/blob/master/docs/tutorials/images/text_generation_training.png?raw=1)"
   ]
  },
  {
   "cell_type": "markdown",
   "metadata": {
    "id": "gKbfm04amhXk"
   },
   "source": [
    "Note: For training you could use a `keras.Sequential` model here. To  generate text later you'll need to manage the RNN's internal state. It's simpler to include the state input and output options upfront, than it is to rearrange the model architecture later. For more details see the [Keras RNN guide](https://www.tensorflow.org/guide/keras/rnn#rnn_state_reuse)."
   ]
  },
  {
   "cell_type": "markdown",
   "metadata": {
    "id": "-ubPo0_9Prjb"
   },
   "source": [
    "## Try the model\n",
    "\n",
    "Now run the model to see that it behaves as expected.\n",
    "\n",
    "First check the shape of the output:"
   ]
  },
  {
   "cell_type": "code",
   "execution_count": null,
   "metadata": {
    "colab": {
     "base_uri": "https://localhost:8080/"
    },
    "id": "C-_70kKAPrPU",
    "outputId": "a347c586-fe5a-4f2e-9405-1f7d4f1d75fb"
   },
   "outputs": [
    {
     "name": "stdout",
     "output_type": "stream",
     "text": [
      "(64, 100, 85) # (batch_size, sequence_length, vocab_size)\n"
     ]
    }
   ],
   "source": [
    "for input_example_batch, target_example_batch in dataset.take(1):\n",
    "    example_batch_predictions = model(input_example_batch)\n",
    "    print(example_batch_predictions.shape, \"# (batch_size, sequence_length, vocab_size)\")"
   ]
  },
  {
   "cell_type": "markdown",
   "metadata": {
    "id": "Q6NzLBi4VM4o"
   },
   "source": [
    "In the above example the sequence length of the input is `100` but the model can be run on inputs of any length:"
   ]
  },
  {
   "cell_type": "code",
   "execution_count": null,
   "metadata": {
    "colab": {
     "base_uri": "https://localhost:8080/"
    },
    "id": "vPGmAAXmVLGC",
    "outputId": "59716777-7093-476b-9269-164c630f4340"
   },
   "outputs": [
    {
     "name": "stdout",
     "output_type": "stream",
     "text": [
      "Model: \"my_model\"\n",
      "_________________________________________________________________\n",
      " Layer (type)                Output Shape              Param #   \n",
      "=================================================================\n",
      " embedding (Embedding)       multiple                  21760     \n",
      "                                                                 \n",
      " gru (GRU)                   multiple                  3938304   \n",
      "                                                                 \n",
      " dense (Dense)               multiple                  87125     \n",
      "                                                                 \n",
      "=================================================================\n",
      "Total params: 4,047,189\n",
      "Trainable params: 4,047,189\n",
      "Non-trainable params: 0\n",
      "_________________________________________________________________\n"
     ]
    }
   ],
   "source": [
    "model.summary()"
   ]
  },
  {
   "cell_type": "markdown",
   "metadata": {
    "id": "uwv0gEkURfx1"
   },
   "source": [
    "To get actual predictions from the model you need to sample from the output distribution, to get actual character indices. This distribution is defined by the logits over the character vocabulary.\n",
    "\n",
    "Note: It is important to _sample_ from this distribution as taking the _argmax_ of the distribution can easily get the model stuck in a loop.\n",
    "\n",
    "Try it for the first example in the batch:"
   ]
  },
  {
   "cell_type": "code",
   "execution_count": null,
   "metadata": {
    "id": "4V4MfFg0RQJg"
   },
   "outputs": [],
   "source": [
    "sampled_indices = tf.random.categorical(example_batch_predictions[0], num_samples=1)\n",
    "sampled_indices = tf.squeeze(sampled_indices, axis=-1).numpy()"
   ]
  },
  {
   "cell_type": "markdown",
   "metadata": {
    "id": "QM1Vbxs_URw5"
   },
   "source": [
    "This gives us, at each timestep, a prediction of the next character index:"
   ]
  },
  {
   "cell_type": "code",
   "execution_count": null,
   "metadata": {
    "colab": {
     "base_uri": "https://localhost:8080/"
    },
    "id": "YqFMUQc_UFgM",
    "outputId": "1c82b494-7619-4b2a-be7f-f697014b05be"
   },
   "outputs": [
    {
     "data": {
      "text/plain": [
       "array([16, 28, 27, 66, 49, 34, 74, 66, 38, 17, 24, 81, 72, 50, 65, 32, 14,\n",
       "       39, 30, 61,  2, 70, 22, 41, 73, 10, 35,  4, 30, 24, 78, 47, 15, 79,\n",
       "       55, 27,  0, 48, 80, 12, 83, 82, 78, 42, 37, 13, 56, 19, 68,  3, 35,\n",
       "       10, 27, 12, 83, 15, 19, 64, 40, 76, 26, 67, 61, 57, 82,  6, 67, 83,\n",
       "       14, 45,  9, 45, 10, 55, 66, 13, 53, 43, 25, 18, 71, 21, 58, 29, 29,\n",
       "        0, 21, 61, 17, 15, 36, 59, 20, 63, 31, 45, 33, 44,  0, 39])"
      ]
     },
     "execution_count": 32,
     "metadata": {},
     "output_type": "execute_result"
    }
   ],
   "source": [
    "sampled_indices"
   ]
  },
  {
   "cell_type": "markdown",
   "metadata": {
    "id": "LfLtsP3mUhCG"
   },
   "source": [
    "Decode these to see the text predicted by this untrained model:"
   ]
  },
  {
   "cell_type": "code",
   "execution_count": null,
   "metadata": {
    "colab": {
     "base_uri": "https://localhost:8080/"
    },
    "id": "xWcFwPwLSo05",
    "outputId": "90ed0c0f-91e5-41c2-edb0-d2469758c7a6"
   },
   "outputs": [
    {
     "name": "stdout",
     "output_type": "stream",
     "text": [
      "Input:\n",
      " b\" week? A month? A year? Did you pee on a stick? You should've told me. Oh, oh... yeah, a long time a\"\n",
      "\n",
      "Next Char Predictions:\n",
      " b'0=;hSDphH18wnTgB.I@c!l6Ko*E$@8tQ/uY;[UNK]Rv,yxtLG-Z3j\"E*;,y/3fJr:ic[x&iy.O)O*Yh-WM92m5]??[UNK]5c1/Fa4eAOCN[UNK]I'\n"
     ]
    }
   ],
   "source": [
    "print(\"Input:\\n\", text_from_ids(input_example_batch[0]).numpy())\n",
    "print()\n",
    "print(\"Next Char Predictions:\\n\", text_from_ids(sampled_indices).numpy())"
   ]
  },
  {
   "cell_type": "markdown",
   "metadata": {
    "id": "LJL0Q0YPY6Ee"
   },
   "source": [
    "## Train the model"
   ]
  },
  {
   "cell_type": "markdown",
   "metadata": {
    "id": "YCbHQHiaa4Ic"
   },
   "source": [
    "At this point the problem can be treated as a standard classification problem. Given the previous RNN state, and the input this time step, predict the class of the next character."
   ]
  },
  {
   "cell_type": "markdown",
   "metadata": {
    "id": "trpqTWyvk0nr"
   },
   "source": [
    "### Attach an optimizer, and a loss function"
   ]
  },
  {
   "cell_type": "markdown",
   "metadata": {
    "id": "UAjbjY03eiQ4"
   },
   "source": [
    "The standard `tf.keras.losses.sparse_categorical_crossentropy` loss function works in this case because it is applied across the last dimension of the predictions.\n",
    "\n",
    "Because your model returns logits, you need to set the `from_logits` flag.\n"
   ]
  },
  {
   "cell_type": "code",
   "execution_count": null,
   "metadata": {
    "id": "ZOeWdgxNFDXq"
   },
   "outputs": [],
   "source": [
    "loss = tf.losses.SparseCategoricalCrossentropy(from_logits=True)"
   ]
  },
  {
   "cell_type": "code",
   "execution_count": null,
   "metadata": {
    "colab": {
     "base_uri": "https://localhost:8080/"
    },
    "id": "4HrXTACTdzY-",
    "outputId": "1b97b042-bea8-4492-8819-c5bbff859543"
   },
   "outputs": [
    {
     "name": "stdout",
     "output_type": "stream",
     "text": [
      "Prediction shape:  (64, 100, 85)  # (batch_size, sequence_length, vocab_size)\n",
      "Mean loss:         tf.Tensor(4.4427776, shape=(), dtype=float32)\n"
     ]
    }
   ],
   "source": [
    "example_batch_mean_loss = loss(target_example_batch, example_batch_predictions)\n",
    "print(\"Prediction shape: \", example_batch_predictions.shape, \" # (batch_size, sequence_length, vocab_size)\")\n",
    "print(\"Mean loss:        \", example_batch_mean_loss)"
   ]
  },
  {
   "cell_type": "markdown",
   "metadata": {
    "id": "vkvUIneTFiow"
   },
   "source": [
    "A newly initialized model shouldn't be too sure of itself, the output logits should all have similar magnitudes. To confirm this you can check that the exponential of the mean loss is approximately equal to the vocabulary size. A much higher loss means the model is sure of its wrong answers, and is badly initialized:"
   ]
  },
  {
   "cell_type": "code",
   "execution_count": null,
   "metadata": {
    "colab": {
     "base_uri": "https://localhost:8080/"
    },
    "id": "MAJfS5YoFiHf",
    "outputId": "06ed6ed7-4163-4d31-e45d-27371dce62a0"
   },
   "outputs": [
    {
     "data": {
      "text/plain": [
       "85.01074"
      ]
     },
     "execution_count": 36,
     "metadata": {},
     "output_type": "execute_result"
    }
   ],
   "source": [
    "tf.exp(example_batch_mean_loss).numpy()"
   ]
  },
  {
   "cell_type": "markdown",
   "metadata": {
    "id": "jeOXriLcymww"
   },
   "source": [
    "Configure the training procedure using the `tf.keras.Model.compile` method. Use `tf.keras.optimizers.Adam` with default arguments and the loss function."
   ]
  },
  {
   "cell_type": "code",
   "execution_count": null,
   "metadata": {
    "id": "DDl1_Een6rL0"
   },
   "outputs": [],
   "source": [
    "model.compile(optimizer='adam', loss=loss)"
   ]
  },
  {
   "cell_type": "markdown",
   "metadata": {
    "id": "ieSJdchZggUj"
   },
   "source": [
    "### Configure checkpoints"
   ]
  },
  {
   "cell_type": "markdown",
   "metadata": {
    "id": "C6XBUUavgF56"
   },
   "source": [
    "Use a `tf.keras.callbacks.ModelCheckpoint` to ensure that checkpoints are saved during training:"
   ]
  },
  {
   "cell_type": "code",
   "execution_count": null,
   "metadata": {
    "id": "W6fWTriUZP-n"
   },
   "outputs": [],
   "source": [
    "# Directory where the checkpoints will be saved\n",
    "checkpoint_dir = './training_checkpoints'\n",
    "# Name of the checkpoint files\n",
    "checkpoint_prefix = os.path.join(checkpoint_dir, \"ckpt_{epoch}\")\n",
    "\n",
    "checkpoint_callback = tf.keras.callbacks.ModelCheckpoint(\n",
    "    filepath=checkpoint_prefix,\n",
    "    save_weights_only=True)"
   ]
  },
  {
   "cell_type": "markdown",
   "metadata": {
    "id": "3Ky3F_BhgkTW"
   },
   "source": [
    "### Execute the training"
   ]
  },
  {
   "cell_type": "markdown",
   "metadata": {
    "id": "IxdOA-rgyGvs"
   },
   "source": [
    "To keep training time reasonable, use 10 epochs to train the model. In Colab, set the runtime to GPU for faster training."
   ]
  },
  {
   "cell_type": "code",
   "execution_count": null,
   "metadata": {
    "id": "7yGBE2zxMMHs"
   },
   "outputs": [],
   "source": [
    "EPOCHS = 40"
   ]
  },
  {
   "cell_type": "code",
   "execution_count": null,
   "metadata": {
    "colab": {
     "base_uri": "https://localhost:8080/"
    },
    "id": "UK-hmKjYVoll",
    "outputId": "5f0cd260-85b7-4415-b92f-c61531359a5c"
   },
   "outputs": [
    {
     "name": "stdout",
     "output_type": "stream",
     "text": [
      "Epoch 1/40\n",
      "130/130 [==============================] - 21s 141ms/step - loss: 0.5922\n",
      "Epoch 2/40\n",
      "130/130 [==============================] - 19s 138ms/step - loss: 0.5468\n",
      "Epoch 3/40\n",
      "130/130 [==============================] - 19s 137ms/step - loss: 0.5051\n",
      "Epoch 4/40\n",
      "130/130 [==============================] - 19s 136ms/step - loss: 0.4708\n",
      "Epoch 5/40\n",
      "130/130 [==============================] - 19s 136ms/step - loss: 0.4419\n",
      "Epoch 6/40\n",
      "130/130 [==============================] - 19s 137ms/step - loss: 0.4162\n",
      "Epoch 7/40\n",
      "130/130 [==============================] - 19s 136ms/step - loss: 0.3960\n",
      "Epoch 8/40\n",
      "130/130 [==============================] - 19s 136ms/step - loss: 0.3807\n",
      "Epoch 9/40\n",
      "130/130 [==============================] - 19s 136ms/step - loss: 0.3678\n",
      "Epoch 10/40\n",
      "130/130 [==============================] - 19s 136ms/step - loss: 0.3526\n",
      "Epoch 11/40\n",
      "130/130 [==============================] - 19s 136ms/step - loss: 0.3448\n",
      "Epoch 12/40\n",
      "130/130 [==============================] - 19s 136ms/step - loss: 0.3365\n",
      "Epoch 13/40\n",
      "130/130 [==============================] - 19s 136ms/step - loss: 0.3311\n",
      "Epoch 14/40\n",
      "130/130 [==============================] - 19s 135ms/step - loss: 0.3280\n",
      "Epoch 15/40\n",
      "130/130 [==============================] - 19s 136ms/step - loss: 0.3210\n",
      "Epoch 16/40\n",
      "130/130 [==============================] - 19s 135ms/step - loss: 0.3153\n",
      "Epoch 17/40\n",
      "130/130 [==============================] - 19s 136ms/step - loss: 0.3131\n",
      "Epoch 18/40\n",
      "130/130 [==============================] - 19s 135ms/step - loss: 0.3139\n",
      "Epoch 19/40\n",
      "130/130 [==============================] - 19s 137ms/step - loss: 0.3147\n",
      "Epoch 20/40\n",
      "130/130 [==============================] - 19s 136ms/step - loss: 0.3160\n",
      "Epoch 21/40\n",
      "130/130 [==============================] - 19s 136ms/step - loss: 0.3151\n",
      "Epoch 22/40\n",
      "130/130 [==============================] - 19s 136ms/step - loss: 0.3115\n",
      "Epoch 23/40\n",
      "130/130 [==============================] - 19s 136ms/step - loss: 0.3075\n",
      "Epoch 24/40\n",
      "130/130 [==============================] - 19s 136ms/step - loss: 0.3020\n",
      "Epoch 25/40\n",
      "130/130 [==============================] - 19s 135ms/step - loss: 0.2966\n",
      "Epoch 26/40\n",
      "130/130 [==============================] - 19s 135ms/step - loss: 0.2933\n",
      "Epoch 27/40\n",
      "130/130 [==============================] - 19s 135ms/step - loss: 0.2959\n",
      "Epoch 28/40\n",
      "130/130 [==============================] - 19s 136ms/step - loss: 0.3015\n",
      "Epoch 29/40\n",
      "130/130 [==============================] - 19s 136ms/step - loss: 0.3084\n",
      "Epoch 30/40\n",
      "130/130 [==============================] - 19s 135ms/step - loss: 0.3157\n",
      "Epoch 31/40\n",
      "130/130 [==============================] - 19s 136ms/step - loss: 0.3164\n",
      "Epoch 32/40\n",
      "130/130 [==============================] - 19s 135ms/step - loss: 0.3219\n",
      "Epoch 33/40\n",
      "130/130 [==============================] - 19s 135ms/step - loss: 0.3230\n",
      "Epoch 34/40\n",
      "130/130 [==============================] - 19s 136ms/step - loss: 0.3195\n",
      "Epoch 35/40\n",
      "130/130 [==============================] - 19s 136ms/step - loss: 0.3129\n",
      "Epoch 36/40\n",
      "130/130 [==============================] - 19s 136ms/step - loss: 0.3060\n",
      "Epoch 37/40\n",
      "130/130 [==============================] - 19s 136ms/step - loss: 0.3054\n",
      "Epoch 38/40\n",
      "130/130 [==============================] - 19s 136ms/step - loss: 0.3077\n",
      "Epoch 39/40\n",
      "130/130 [==============================] - 19s 136ms/step - loss: 0.3120\n",
      "Epoch 40/40\n",
      "130/130 [==============================] - 19s 136ms/step - loss: 0.3133\n"
     ]
    }
   ],
   "source": [
    "history = model.fit(dataset, epochs=EPOCHS, callbacks=[checkpoint_callback])"
   ]
  },
  {
   "cell_type": "markdown",
   "metadata": {
    "id": "kKkD5M6eoSiN"
   },
   "source": [
    "## Generate text"
   ]
  },
  {
   "cell_type": "markdown",
   "metadata": {
    "id": "oIdQ8c8NvMzV"
   },
   "source": [
    "The simplest way to generate text with this model is to run it in a loop, and keep track of the model's internal state as you execute it.\n",
    "\n",
    "![To generate text the model's output is fed back to the input](https://github.com/tensorflow/text/blob/master/docs/tutorials/images/text_generation_sampling.png?raw=1)\n",
    "\n",
    "Each time you call the model you pass in some text and an internal state. The model returns a prediction for the next character and its new state. Pass the prediction and state back in to continue generating text.\n"
   ]
  },
  {
   "cell_type": "markdown",
   "metadata": {
    "id": "DjGz1tDkzf-u"
   },
   "source": [
    "The following makes a single step prediction:"
   ]
  },
  {
   "cell_type": "code",
   "execution_count": null,
   "metadata": {
    "id": "iSBU1tHmlUSs"
   },
   "outputs": [],
   "source": [
    "class OneStep(tf.keras.Model):\n",
    "  def __init__(self, model, chars_from_ids, ids_from_chars, temperature=1.0):\n",
    "    super().__init__()\n",
    "    self.temperature = temperature\n",
    "    self.model = model\n",
    "    self.chars_from_ids = chars_from_ids\n",
    "    self.ids_from_chars = ids_from_chars\n",
    "\n",
    "    # Create a mask to prevent \"[UNK]\" from being generated.\n",
    "    skip_ids = self.ids_from_chars(['[UNK]'])[:, None]\n",
    "    sparse_mask = tf.SparseTensor(\n",
    "        # Put a -inf at each bad index.\n",
    "        values=[-float('inf')]*len(skip_ids),\n",
    "        indices=skip_ids,\n",
    "        # Match the shape to the vocabulary\n",
    "        dense_shape=[len(ids_from_chars.get_vocabulary())])\n",
    "    self.prediction_mask = tf.sparse.to_dense(sparse_mask)\n",
    "\n",
    "  @tf.function\n",
    "  def generate_one_step(self, inputs, states=None):\n",
    "    # Convert strings to token IDs.\n",
    "    input_chars = tf.strings.unicode_split(inputs, 'UTF-8')\n",
    "    input_ids = self.ids_from_chars(input_chars).to_tensor()\n",
    "\n",
    "    # Run the model.\n",
    "    # predicted_logits.shape is [batch, char, next_char_logits]\n",
    "    predicted_logits, states = self.model(inputs=input_ids, states=states,\n",
    "                                          return_state=True)\n",
    "    # Only use the last prediction.\n",
    "    predicted_logits = predicted_logits[:, -1, :]\n",
    "    predicted_logits = predicted_logits/self.temperature\n",
    "    # Apply the prediction mask: prevent \"[UNK]\" from being generated.\n",
    "    predicted_logits = predicted_logits + self.prediction_mask\n",
    "\n",
    "    # Sample the output logits to generate token IDs.\n",
    "    predicted_ids = tf.random.categorical(predicted_logits, num_samples=1)\n",
    "    predicted_ids = tf.squeeze(predicted_ids, axis=-1)\n",
    "\n",
    "    # Convert from token ids to characters\n",
    "    predicted_chars = self.chars_from_ids(predicted_ids)\n",
    "\n",
    "    # Return the characters and model state.\n",
    "    return predicted_chars, states"
   ]
  },
  {
   "cell_type": "code",
   "execution_count": null,
   "metadata": {
    "id": "fqMOuDutnOxK"
   },
   "outputs": [],
   "source": [
    "one_step_model = OneStep(model, chars_from_ids, ids_from_chars)"
   ]
  },
  {
   "cell_type": "markdown",
   "metadata": {
    "id": "p9yDoa0G3IgQ"
   },
   "source": [
    "Run it in a loop to generate some text. Looking at the generated text, you'll see the model knows when to capitalize, make paragraphs and imitates a Shakespeare-like writing vocabulary. With the small number of training epochs, it has not yet learned to form coherent sentences."
   ]
  },
  {
   "cell_type": "code",
   "execution_count": null,
   "metadata": {
    "colab": {
     "base_uri": "https://localhost:8080/"
    },
    "id": "ST7PSyk9t1mT",
    "outputId": "005860a7-55da-41cc-bde3-62c1eef46116"
   },
   "outputs": [
    {
     "name": "stdout",
     "output_type": "stream",
     "text": [
      "Hey, Dwight. Paster. Right. You can have a gift old stuff you have a lot to do with the phone, please. You can say B. \n",
      "\n",
      "________________________________________________________________________________\n",
      "\n",
      "Run time: 0.4388399124145508\n"
     ]
    }
   ],
   "source": [
    "start = time.time()\n",
    "states = None\n",
    "next_char = tf.constant([\"Hey, Dwight.\"])\n",
    "result = [next_char]\n",
    "\n",
    "for n in range(105):\n",
    "  next_char, states = one_step_model.generate_one_step(next_char, states=states)\n",
    "  result.append(next_char)\n",
    "\n",
    "result = tf.strings.join(result)\n",
    "end = time.time()\n",
    "print(result[0].numpy().decode('utf-8'), '\\n\\n' + '_'*80)\n",
    "print('\\nRun time:', end - start)"
   ]
  },
  {
   "cell_type": "markdown",
   "metadata": {
    "id": "AM2Uma_-yVIq"
   },
   "source": [
    "The easiest thing you can do to improve the results is to train it for longer (try `EPOCHS = 30`).\n",
    "\n",
    "You can also experiment with a different start string, try adding another RNN layer to improve the model's accuracy, or adjust the temperature parameter to generate more or less random predictions."
   ]
  },
  {
   "cell_type": "markdown",
   "metadata": {
    "id": "_OfbI4aULmuj"
   },
   "source": [
    "If you want the model to generate text *faster* the easiest thing you can do is batch the text generation. In the example below the model generates 5 outputs in about the same time it took to generate 1 above. "
   ]
  },
  {
   "cell_type": "code",
   "execution_count": null,
   "metadata": {
    "colab": {
     "base_uri": "https://localhost:8080/"
    },
    "id": "ZkLu7Y8UCMT7",
    "outputId": "dd2047a9-e9e9-4868-ae2a-74468c8bd096"
   },
   "outputs": [
    {
     "name": "stdout",
     "output_type": "stream",
     "text": [
      "tf.Tensor(\n",
      "[b\"ROMEO:\\nThen this will have; with tails on all.\\n\\nDUKE VINCENTIO:\\nYour emil-a man affliction my father's child\\nHust with me Romeo: I know not, now for\\na virgin of those that I can read it.\\n\\nEDWARD:\\nNie, his night should cease to him.\\n\\nBUCKINGHAM:\\nThe corruption make him that will fast-\\nGreat Lady Angelo, then, I thank you, when I deny\\nhis new corrupted, we are the highest moutte,\\nMy blessed make all compused she was,\\nAs if the duke so far from older hours\\nUpon your brother's jest: but, as I say, a Goltch\\nOr undark towards him and nothing else:\\nAnd being but a person buins, and have one\\nThrough alters that there is nor grace.\\nBetter for me, which was slight them in thus?\\nThey have beheld thee worth the farth of my wrath.\\nBut I will say 'twere pretty men,\\nNor wash it out, and all turns my browh! I will from\\nFalseness use the glory, for it you shall\\nBe; let me banish toming\\ntoo much little look, for 'twere pass'd with\\nraised and ready to stoon, and then\\nBecome you a treasure that the servant's in\"\n",
      " b\"ROMEO:\\nSome say the law, not I could to come home.\\n\\nSEBASTIAN:\\nYou spoke these unjesting pestlexs\\nyoung private years we have his funy and virtuous\\ntemptiusing tenter, the Volscians to my entrance.\\nBecause have we partler to her young?\\n\\nKATHARINA:\\nNay, then, do not took wicketh, my business: surely\\nIs struck bitterly; and who shall see\\nHave the lay doth time Edward dead.\\n\\nDERBY:\\nRight gale till news, my lord, delivet:\\nThy tet her rurdey strong-spearing, Romeo may.\\n\\nBUCKINGHAM:\\nTrue, speed--\\nTo London on you three, and that's came:\\nDeposed you this flight hour, it should I tempt\\nAh you my claim the wrong.\\n\\nLORD OF GLOUCESTER:\\nThat Warwick's brave of their infancy, my keeper's\\nMore ter my descent. But, like a quiet, let them call,\\nOn death of death are to give me leave.\\n\\nROMEO:\\nA wise men enter: what saunds I live?\\n\\nGROMAO:\\nYet hath the law make thee easy done good.\\n\\nLUCIO:\\nI warrant, my lord.\\n\\nLEONTES:\\nHow now, kings more on!\\nThus goest to the cause of yours,\\nProud judgment of them but our pe\"\n",
      " b\"ROMEO:\\nStay, here comes the man but but a mighty.\\nWell, you are not concluded with me;\\nI am going it on a possing; then, I do believe\\nHis taughter, turn my face blood to my ghost:\\nThis feeder, I'll rest in Latcass\\nWith his meet's cheques are easy,\\nTo buy apparel 'gainst the like of our jest, and\\nthen they love the people: in resolate\\nI throw my nack'd sovereign and to my bride,\\nThat my tounder lambs and abstancles from his bristring\\nTimes in jest; but then I married them;\\nBut the father Edward is a gentleman branch\\nThat trud vexate when I love thee tears,\\nBy enduise his passing going, take heed of children.\\n\\nSenators, &CCarrel,\\nSirrah, carry to be inhere't, stay him.\\n\\nLUCIO:\\nNay, godnd am; I must to give; good my lord.\\n\\nKING RICHARD III:\\nI would they changed the request; sir, thanks,\\nThat the breath of an indignation lamb?\\n\\nHASTINGS:\\nNay, by answer.\\n\\nDUKE VINCENTIO:\\nThing here and these are your assurance, that this cries\\nHave a toph of yon cold betate both then by requitation\\nAs I blush Tow\"\n",
      " b\"ROMEO:\\nCome hither, sirrah, let Meneniug learn;\\nInfect my heart deliver'd.\\n\\nHENRY BOLINGBROKE:\\nGive me thy hand; I will answer thee.\\n\\nGLOUCESTER:\\nLead there guidest friends, I would have paid for what?\\n\\nELBOW:\\nWill you well the weeds was young point,\\nSchool'd only dance. What,\\nCan ne thee, thou hast said enough; but I\\nWarrant it steading. Come, follow. I smile,\\nLest everhear themselves, clear may be mock'd.\\n\\nSTANLEY:\\nRead of tranio, muster me as I will must\\nShall meet him make the heart that seldsmumbled\\nThat valiant Clarence comes, with him that hate them.\\nWithorth no greater fire fine that thy amends\\nWhich his tongue, or more than we can deceive\\nYour troops that bears me if you be, would have\\nBurge me as a joyful mar;\\nAnd what is must be past we art;\\nThus then I defy my vile that I shall, sir, he\\ncould speak to the place; where thou art wooing?\\n\\nPETRUCHIO:\\nPut not your first: but 'tis my wedded business.\\n\\nEDWARD:\\nPlantasteth:\\nWith Christopher is a hundred black;\\nThe chience that must be mu\"\n",
      " b\"ROMEO:\\nDold song, look you, being but a bawd.\\n\\nBUCKINGHAM:\\nGood queen in those I know the very south\\nTo let him flowers: an stand fast prophagame,\\nThen this friar and stread indeed, no stay;\\nWhich is the best way is but to the grave. Bear thou art\\n\\nNORTHUMBENSI:\\nHere is the ruin of this: he was lest you had;\\nAnd seem consiciency have my limber'd life\\nstole fierce there, where no daughter purch'd and beams.\\nWhat think you?--\\n\\nMERCUTER:\\nFie, what, are you say, please you to might well\\nWhen I am advance, and other parliament,\\nAlthough my heart stirring. What then?'\\nNow, go by this; let it not prisoner,\\nNot as we do light upon your gage\\nThat can make good which I have way, hell means,\\nMethinks I see his charges for the east:\\nDuch carrion strains of such needing of my friends,\\nTill our aids my kingly load, I would say.\\n\\nBAPTIS:\\nGo pleased, stand back: though it not be:\\nWe threate the gosshopery I thought not speak,\\nOf harm, as I thy grive means I live.\\nGentlemen, good morrow, neighbour: prison! N\"], shape=(5,), dtype=string) \n",
      "\n",
      "________________________________________________________________________________\n",
      "\n",
      "Run time: 5.069607734680176\n"
     ]
    }
   ],
   "source": [
    "start = time.time()\n",
    "states = None\n",
    "next_char = tf.constant(['ROMEO:', 'ROMEO:', 'ROMEO:', 'ROMEO:', 'ROMEO:'])\n",
    "result = [next_char]\n",
    "\n",
    "for n in range(1000):\n",
    "  next_char, states = one_step_model.generate_one_step(next_char, states=states)\n",
    "  result.append(next_char)\n",
    "\n",
    "result = tf.strings.join(result)\n",
    "end = time.time()\n",
    "print(result, '\\n\\n' + '_'*80)\n",
    "print('\\nRun time:', end - start)"
   ]
  },
  {
   "cell_type": "markdown",
   "metadata": {
    "id": "UlUQzwu6EXam"
   },
   "source": [
    "## Export the generator\n",
    "\n",
    "This single-step model can easily be [saved and restored](https://www.tensorflow.org/guide/saved_model), allowing you to use it anywhere a `tf.saved_model` is accepted."
   ]
  },
  {
   "cell_type": "code",
   "execution_count": null,
   "metadata": {
    "colab": {
     "base_uri": "https://localhost:8080/"
    },
    "id": "3Grk32H_CzsC",
    "outputId": "c57e9e56-9fd4-4564-b1f1-82b68a2b2bc0"
   },
   "outputs": [
    {
     "name": "stdout",
     "output_type": "stream",
     "text": [
      "WARNING:tensorflow:Skipping full serialization of Keras layer <__main__.OneStep object at 0x7fedc96d6110>, because it is not built.\n"
     ]
    },
    {
     "name": "stderr",
     "output_type": "stream",
     "text": [
      "WARNING:absl:Found untraced functions such as gru_cell_layer_call_fn, gru_cell_layer_call_and_return_conditional_losses, gru_cell_layer_call_fn, gru_cell_layer_call_and_return_conditional_losses, gru_cell_layer_call_and_return_conditional_losses while saving (showing 5 of 5). These functions will not be directly callable after loading.\n"
     ]
    },
    {
     "name": "stdout",
     "output_type": "stream",
     "text": [
      "INFO:tensorflow:Assets written to: one_step/assets\n"
     ]
    },
    {
     "name": "stderr",
     "output_type": "stream",
     "text": [
      "INFO:tensorflow:Assets written to: one_step/assets\n"
     ]
    }
   ],
   "source": [
    "tf.saved_model.save(one_step_model, 'one_step')\n",
    "one_step_reloaded = tf.saved_model.load('one_step')"
   ]
  },
  {
   "cell_type": "code",
   "execution_count": null,
   "metadata": {
    "colab": {
     "base_uri": "https://localhost:8080/"
    },
    "id": "_Z9bb_wX6Uuu",
    "outputId": "e6f579db-38a2-4179-f811-25b86c5ed187"
   },
   "outputs": [
    {
     "name": "stdout",
     "output_type": "stream",
     "text": [
      "ROMEO:\n",
      "That bear you, my poor heart.\n",
      "\n",
      "HERMIONE:\n",
      "I have said, maked some thing about!\n",
      "But what the matter m\n"
     ]
    }
   ],
   "source": [
    "states = None\n",
    "next_char = tf.constant(['ROMEO:'])\n",
    "result = [next_char]\n",
    "\n",
    "for n in range(100):\n",
    "  next_char, states = one_step_reloaded.generate_one_step(next_char, states=states)\n",
    "  result.append(next_char)\n",
    "\n",
    "print(tf.strings.join(result)[0].numpy().decode(\"utf-8\"))"
   ]
  },
  {
   "cell_type": "markdown",
   "metadata": {
    "id": "Y4QwTjAM6A2O"
   },
   "source": [
    "## Advanced: Customized Training\n",
    "\n",
    "The above training procedure is simple, but does not give you much control.\n",
    "It uses teacher-forcing which prevents bad predictions from being fed back to the model, so the model never learns to recover from mistakes.\n",
    "\n",
    "So now that you've seen how to run the model manually next you'll implement the training loop. This gives a starting point if, for example, you want to implement _curriculum  learning_ to help stabilize the model's open-loop output.\n",
    "\n",
    "The most important part of a custom training loop is the train step function.\n",
    "\n",
    "Use `tf.GradientTape` to track the gradients. You can learn more about this approach by reading the [eager execution guide](https://www.tensorflow.org/guide/eager).\n",
    "\n",
    "The basic procedure is:\n",
    "\n",
    "1. Execute the model and calculate the loss under a `tf.GradientTape`.\n",
    "2. Calculate the updates and apply them to the model using the optimizer."
   ]
  },
  {
   "cell_type": "code",
   "execution_count": null,
   "metadata": {
    "id": "x0pZ101hjwW0"
   },
   "outputs": [],
   "source": [
    "class CustomTraining(MyModel):\n",
    "  @tf.function\n",
    "  def train_step(self, inputs):\n",
    "      inputs, labels = inputs\n",
    "      with tf.GradientTape() as tape:\n",
    "          predictions = self(inputs, training=True)\n",
    "          loss = self.loss(labels, predictions)\n",
    "      grads = tape.gradient(loss, model.trainable_variables)\n",
    "      self.optimizer.apply_gradients(zip(grads, model.trainable_variables))\n",
    "\n",
    "      return {'loss': loss}"
   ]
  },
  {
   "cell_type": "markdown",
   "metadata": {
    "id": "4Oc-eJALcK8B"
   },
   "source": [
    "The above implementation of the `train_step` method follows [Keras' `train_step` conventions](https://www.tensorflow.org/guide/keras/customizing_what_happens_in_fit). This is optional, but it allows you to change the behavior of the train step and still use keras' `Model.compile` and `Model.fit` methods."
   ]
  },
  {
   "cell_type": "code",
   "execution_count": null,
   "metadata": {
    "id": "XKyWiZ_Lj7w5"
   },
   "outputs": [],
   "source": [
    "model = CustomTraining(\n",
    "    vocab_size=len(ids_from_chars.get_vocabulary()),\n",
    "    embedding_dim=embedding_dim,\n",
    "    rnn_units=rnn_units)"
   ]
  },
  {
   "cell_type": "code",
   "execution_count": null,
   "metadata": {
    "id": "U817KUm7knlm"
   },
   "outputs": [],
   "source": [
    "model.compile(optimizer = tf.keras.optimizers.Adam(),\n",
    "              loss=tf.keras.losses.SparseCategoricalCrossentropy(from_logits=True))"
   ]
  },
  {
   "cell_type": "code",
   "execution_count": null,
   "metadata": {
    "colab": {
     "base_uri": "https://localhost:8080/"
    },
    "id": "o694aoBPnEi9",
    "outputId": "debff734-ee75-486b-bddd-4737cb449504"
   },
   "outputs": [
    {
     "name": "stdout",
     "output_type": "stream",
     "text": [
      "172/172 [==============================] - 28s 135ms/step - loss: 2.7040\n"
     ]
    },
    {
     "data": {
      "text/plain": [
       "<keras.callbacks.History at 0x7fedc950a550>"
      ]
     },
     "execution_count": 49,
     "metadata": {},
     "output_type": "execute_result"
    }
   ],
   "source": [
    "model.fit(dataset, epochs=1)"
   ]
  },
  {
   "cell_type": "markdown",
   "metadata": {
    "id": "W8nAtKHVoInR"
   },
   "source": [
    "Or if you need more control, you can write your own complete custom training loop:"
   ]
  },
  {
   "cell_type": "code",
   "execution_count": null,
   "metadata": {
    "colab": {
     "base_uri": "https://localhost:8080/"
    },
    "id": "d4tSNwymzf-q",
    "outputId": "62e3538d-89ed-40f5-e713-8e000524e787"
   },
   "outputs": [
    {
     "name": "stdout",
     "output_type": "stream",
     "text": [
      "Epoch 1 Batch 0 Loss 2.1372\n",
      "Epoch 1 Batch 50 Loss 2.0264\n",
      "Epoch 1 Batch 100 Loss 1.9586\n",
      "Epoch 1 Batch 150 Loss 1.8415\n",
      "\n",
      "Epoch 1 Loss: 1.9776\n",
      "Time taken for 1 epoch 25.37 sec\n",
      "________________________________________________________________________________\n",
      "Epoch 2 Batch 0 Loss 1.8009\n",
      "Epoch 2 Batch 50 Loss 1.7160\n",
      "Epoch 2 Batch 100 Loss 1.6612\n",
      "Epoch 2 Batch 150 Loss 1.6989\n",
      "\n",
      "Epoch 2 Loss: 1.7014\n",
      "Time taken for 1 epoch 24.31 sec\n",
      "________________________________________________________________________________\n",
      "Epoch 3 Batch 0 Loss 1.5710\n",
      "Epoch 3 Batch 50 Loss 1.5693\n",
      "Epoch 3 Batch 100 Loss 1.5453\n",
      "Epoch 3 Batch 150 Loss 1.4651\n",
      "\n",
      "Epoch 3 Loss: 1.5435\n",
      "Time taken for 1 epoch 24.25 sec\n",
      "________________________________________________________________________________\n",
      "Epoch 4 Batch 0 Loss 1.4730\n",
      "Epoch 4 Batch 50 Loss 1.4350\n",
      "Epoch 4 Batch 100 Loss 1.4078\n",
      "Epoch 4 Batch 150 Loss 1.4261\n",
      "\n",
      "Epoch 4 Loss: 1.4482\n",
      "Time taken for 1 epoch 24.26 sec\n",
      "________________________________________________________________________________\n",
      "Epoch 5 Batch 0 Loss 1.4036\n",
      "Epoch 5 Batch 50 Loss 1.4005\n",
      "Epoch 5 Batch 100 Loss 1.4027\n",
      "Epoch 5 Batch 150 Loss 1.3351\n",
      "\n",
      "Epoch 5 Loss: 1.3810\n",
      "Time taken for 1 epoch 24.34 sec\n",
      "________________________________________________________________________________\n",
      "Epoch 6 Batch 0 Loss 1.3098\n",
      "Epoch 6 Batch 50 Loss 1.3340\n",
      "Epoch 6 Batch 100 Loss 1.3368\n",
      "Epoch 6 Batch 150 Loss 1.3170\n",
      "\n",
      "Epoch 6 Loss: 1.3288\n",
      "Time taken for 1 epoch 24.22 sec\n",
      "________________________________________________________________________________\n",
      "Epoch 7 Batch 0 Loss 1.2652\n",
      "Epoch 7 Batch 50 Loss 1.2939\n",
      "Epoch 7 Batch 100 Loss 1.3265\n",
      "Epoch 7 Batch 150 Loss 1.2937\n",
      "\n",
      "Epoch 7 Loss: 1.2846\n",
      "Time taken for 1 epoch 24.09 sec\n",
      "________________________________________________________________________________\n",
      "Epoch 8 Batch 0 Loss 1.2223\n",
      "Epoch 8 Batch 50 Loss 1.2302\n",
      "Epoch 8 Batch 100 Loss 1.2789\n",
      "Epoch 8 Batch 150 Loss 1.2672\n",
      "\n",
      "Epoch 8 Loss: 1.2434\n",
      "Time taken for 1 epoch 24.08 sec\n",
      "________________________________________________________________________________\n",
      "Epoch 9 Batch 0 Loss 1.1580\n",
      "Epoch 9 Batch 50 Loss 1.1724\n",
      "Epoch 9 Batch 100 Loss 1.2196\n",
      "Epoch 9 Batch 150 Loss 1.2337\n",
      "\n",
      "Epoch 9 Loss: 1.2047\n",
      "Time taken for 1 epoch 24.09 sec\n",
      "________________________________________________________________________________\n",
      "Epoch 10 Batch 0 Loss 1.1498\n",
      "Epoch 10 Batch 50 Loss 1.1687\n",
      "Epoch 10 Batch 100 Loss 1.1755\n",
      "Epoch 10 Batch 150 Loss 1.1750\n",
      "\n",
      "Epoch 10 Loss: 1.1637\n",
      "Time taken for 1 epoch 24.18 sec\n",
      "________________________________________________________________________________\n"
     ]
    }
   ],
   "source": [
    "EPOCHS = 10\n",
    "\n",
    "mean = tf.metrics.Mean()\n",
    "\n",
    "for epoch in range(EPOCHS):\n",
    "    start = time.time()\n",
    "\n",
    "    mean.reset_states()\n",
    "    for (batch_n, (inp, target)) in enumerate(dataset):\n",
    "        logs = model.train_step([inp, target])\n",
    "        mean.update_state(logs['loss'])\n",
    "\n",
    "        if batch_n % 50 == 0:\n",
    "            template = f\"Epoch {epoch+1} Batch {batch_n} Loss {logs['loss']:.4f}\"\n",
    "            print(template)\n",
    "\n",
    "    # saving (checkpoint) the model every 5 epochs\n",
    "    if (epoch + 1) % 5 == 0:\n",
    "        model.save_weights(checkpoint_prefix.format(epoch=epoch))\n",
    "\n",
    "    print()\n",
    "    print(f'Epoch {epoch+1} Loss: {mean.result().numpy():.4f}')\n",
    "    print(f'Time taken for 1 epoch {time.time() - start:.2f} sec')\n",
    "    print(\"_\"*80)\n",
    "\n",
    "model.save_weights(checkpoint_prefix.format(epoch=epoch))"
   ]
  }
 ],
 "metadata": {
  "accelerator": "GPU",
  "colab": {
   "collapsed_sections": [],
   "name": "text_generation_michael.ipynb",
   "provenance": []
  },
  "kernelspec": {
   "display_name": "Python 3",
   "language": "python",
   "name": "python3"
  },
  "language_info": {
   "codemirror_mode": {
    "name": "ipython",
    "version": 3
   },
   "file_extension": ".py",
   "mimetype": "text/x-python",
   "name": "python",
   "nbconvert_exporter": "python",
   "pygments_lexer": "ipython3",
   "version": "3.8.8"
  }
 },
 "nbformat": 4,
 "nbformat_minor": 1
}

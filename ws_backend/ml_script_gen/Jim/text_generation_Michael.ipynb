{
  "cells": [
    {
      "cell_type": "code",
      "execution_count": 1,
      "metadata": {
        "id": "yG_n40gFzf9s"
      },
      "outputs": [],
      "source": [
        "import tensorflow as tf\n",
        "import numpy as np\n",
        "import os\n",
        "import time\n",
        "import pathlib"
      ]
    },
    {
      "cell_type": "code",
      "execution_count": 2,
      "metadata": {
        "id": "pD_55cOxLkAb"
      },
      "outputs": [],
      "source": [
        "path_to_file = 'michael_scripts.txt'"
      ]
    },
    {
      "cell_type": "markdown",
      "metadata": {
        "id": "UHjdCjDuSvX_"
      },
      "source": [
        "### Read the data\n",
        "\n",
        "First, look in the text:"
      ]
    },
    {
      "cell_type": "code",
      "execution_count": 3,
      "metadata": {
        "id": "aavnuByVymwK",
        "outputId": "0da7363e-23fd-4152-a485-beda6a92b056",
        "colab": {
          "base_uri": "https://localhost:8080/"
        }
      },
      "outputs": [
        {
          "output_type": "stream",
          "name": "stdout",
          "text": [
            "Length of text: 844866 characters\n"
          ]
        }
      ],
      "source": [
        "# Read, then decode for py2 compat.\n",
        "text = open(path_to_file, 'rb').read().decode(encoding='utf-8')\n",
        "# length of text is the number of characters in it\n",
        "print(f'Length of text: {len(text)} characters')"
      ]
    },
    {
      "cell_type": "code",
      "execution_count": null,
      "metadata": {
        "id": "Duhg9NrUymwO",
        "outputId": "27fb3c4c-3e95-45a6-8790-3f36f7646edd",
        "colab": {
          "base_uri": "https://localhost:8080/"
        }
      },
      "outputs": [
        {
          "output_type": "stream",
          "name": "stdout",
          "text": [
            "All right Jim. Your quarterlies look very good. How are things at the library? So you've come to the master for guidance? Is this what you're saying, grasshopper? All right. Well, let me show you how it's done. So that's the way it's done. I've, uh, \n"
          ]
        }
      ],
      "source": [
        "# Take a look at the first 250 characters in text\n",
        "print(text[:250])"
      ]
    },
    {
      "cell_type": "code",
      "execution_count": 4,
      "metadata": {
        "id": "IlCgQBRVymwR",
        "outputId": "d2817d89-fbf3-47e3-b4ff-bc6bd37f5872",
        "colab": {
          "base_uri": "https://localhost:8080/"
        }
      },
      "outputs": [
        {
          "output_type": "stream",
          "name": "stdout",
          "text": [
            "84 unique characters\n"
          ]
        }
      ],
      "source": [
        "# The unique characters in the file\n",
        "vocab = sorted(set(text))\n",
        "print(f'{len(vocab)} unique characters')"
      ]
    },
    {
      "cell_type": "code",
      "execution_count": 5,
      "metadata": {
        "id": "a86OoYtO01go",
        "outputId": "5370a6f3-8f83-47be-e113-82bb18f3147b",
        "colab": {
          "base_uri": "https://localhost:8080/"
        }
      },
      "outputs": [
        {
          "output_type": "execute_result",
          "data": {
            "text/plain": [
              "<tf.RaggedTensor [[b'a', b'b', b'c', b'd', b'e', b'f', b'g'], [b'x', b'y', b'z']]>"
            ]
          },
          "metadata": {},
          "execution_count": 5
        }
      ],
      "source": [
        "example_texts = ['abcdefg', 'xyz']\n",
        "\n",
        "chars = tf.strings.unicode_split(example_texts, input_encoding='UTF-8')\n",
        "chars"
      ]
    },
    {
      "cell_type": "markdown",
      "metadata": {
        "id": "1s4f1q3iqY8f"
      },
      "source": [
        "Now create the `tf.keras.layers.StringLookup` layer:"
      ]
    },
    {
      "cell_type": "code",
      "execution_count": 6,
      "metadata": {
        "id": "6GMlCe3qzaL9"
      },
      "outputs": [],
      "source": [
        "ids_from_chars = tf.keras.layers.StringLookup(\n",
        "    vocabulary=list(vocab), mask_token=None)"
      ]
    },
    {
      "cell_type": "markdown",
      "metadata": {
        "id": "ZmX_jbgQqfOi"
      },
      "source": [
        "It converts from tokens to character IDs:"
      ]
    },
    {
      "cell_type": "code",
      "execution_count": 7,
      "metadata": {
        "id": "WLv5Q_2TC2pc",
        "outputId": "1486602a-9289-423f-be21-2fb01bb8e4fd",
        "colab": {
          "base_uri": "https://localhost:8080/"
        }
      },
      "outputs": [
        {
          "output_type": "execute_result",
          "data": {
            "text/plain": [
              "<tf.RaggedTensor [[59, 60, 61, 62, 63, 64, 65], [82, 83, 84]]>"
            ]
          },
          "metadata": {},
          "execution_count": 7
        }
      ],
      "source": [
        "ids = ids_from_chars(chars)\n",
        "ids"
      ]
    },
    {
      "cell_type": "code",
      "execution_count": 8,
      "metadata": {
        "id": "Wd2m3mqkDjRj"
      },
      "outputs": [],
      "source": [
        "chars_from_ids = tf.keras.layers.StringLookup(\n",
        "    vocabulary=ids_from_chars.get_vocabulary(), invert=True, mask_token=None)"
      ]
    },
    {
      "cell_type": "markdown",
      "metadata": {
        "id": "pqTDDxS-s-H8"
      },
      "source": [
        "This layer recovers the characters from the vectors of IDs, and returns them as a `tf.RaggedTensor` of characters:"
      ]
    },
    {
      "cell_type": "code",
      "execution_count": 9,
      "metadata": {
        "id": "c2GCh0ySD44s",
        "outputId": "d1b08dbc-3152-44ab-9dd8-4336ede6494b",
        "colab": {
          "base_uri": "https://localhost:8080/"
        }
      },
      "outputs": [
        {
          "output_type": "execute_result",
          "data": {
            "text/plain": [
              "<tf.RaggedTensor [[b'a', b'b', b'c', b'd', b'e', b'f', b'g'], [b'x', b'y', b'z']]>"
            ]
          },
          "metadata": {},
          "execution_count": 9
        }
      ],
      "source": [
        "chars = chars_from_ids(ids)\n",
        "chars"
      ]
    },
    {
      "cell_type": "markdown",
      "metadata": {
        "id": "-FeW5gqutT3o"
      },
      "source": [
        "You can `tf.strings.reduce_join` to join the characters back into strings. "
      ]
    },
    {
      "cell_type": "code",
      "execution_count": 10,
      "metadata": {
        "id": "zxYI-PeltqKP",
        "outputId": "368768d4-b7a0-43a1-da19-f720cf5c84a0",
        "colab": {
          "base_uri": "https://localhost:8080/"
        }
      },
      "outputs": [
        {
          "output_type": "execute_result",
          "data": {
            "text/plain": [
              "array([b'abcdefg', b'xyz'], dtype=object)"
            ]
          },
          "metadata": {},
          "execution_count": 10
        }
      ],
      "source": [
        "tf.strings.reduce_join(chars, axis=-1).numpy()"
      ]
    },
    {
      "cell_type": "code",
      "execution_count": 11,
      "metadata": {
        "id": "w5apvBDn9Ind"
      },
      "outputs": [],
      "source": [
        "def text_from_ids(ids):\n",
        "  return tf.strings.reduce_join(chars_from_ids(ids), axis=-1)"
      ]
    },
    {
      "cell_type": "code",
      "execution_count": 12,
      "metadata": {
        "id": "UopbsKi88tm5",
        "outputId": "33dbdb61-6d0c-4934-a81e-e3a707cbcf95",
        "colab": {
          "base_uri": "https://localhost:8080/"
        }
      },
      "outputs": [
        {
          "output_type": "execute_result",
          "data": {
            "text/plain": [
              "<tf.Tensor: shape=(844866,), dtype=int64, numpy=array([31, 70, 70, ..., 59, 71, 14])>"
            ]
          },
          "metadata": {},
          "execution_count": 12
        }
      ],
      "source": [
        "all_ids = ids_from_chars(tf.strings.unicode_split(text, 'UTF-8'))\n",
        "all_ids"
      ]
    },
    {
      "cell_type": "code",
      "execution_count": 13,
      "metadata": {
        "id": "qmxrYDCTy-eL"
      },
      "outputs": [],
      "source": [
        "ids_dataset = tf.data.Dataset.from_tensor_slices(all_ids)"
      ]
    },
    {
      "cell_type": "code",
      "execution_count": 14,
      "metadata": {
        "id": "cjH5v45-yqqH",
        "outputId": "0059090e-472c-46da-8965-e4b9156c98a5",
        "colab": {
          "base_uri": "https://localhost:8080/"
        }
      },
      "outputs": [
        {
          "output_type": "stream",
          "name": "stdout",
          "text": [
            "A\n",
            "l\n",
            "l\n",
            " \n",
            "r\n",
            "i\n",
            "g\n",
            "h\n",
            "t\n",
            " \n"
          ]
        }
      ],
      "source": [
        "for ids in ids_dataset.take(10):\n",
        "    print(chars_from_ids(ids).numpy().decode('utf-8'))"
      ]
    },
    {
      "cell_type": "code",
      "execution_count": 66,
      "metadata": {
        "id": "C-G2oaTxy6km"
      },
      "outputs": [],
      "source": [
        "seq_length = 150\n",
        "examples_per_epoch = len(text)//(seq_length+1)"
      ]
    },
    {
      "cell_type": "markdown",
      "metadata": {
        "id": "-ZSYAcQV8OGP"
      },
      "source": [
        "The `batch` method lets you easily convert these individual characters to sequences of the desired size."
      ]
    },
    {
      "cell_type": "code",
      "execution_count": 67,
      "metadata": {
        "id": "BpdjRO2CzOfZ",
        "outputId": "426ee26d-9f5d-42b8-f9d9-1ab28817d072",
        "colab": {
          "base_uri": "https://localhost:8080/"
        }
      },
      "outputs": [
        {
          "output_type": "stream",
          "name": "stdout",
          "text": [
            "tf.Tensor(\n",
            "[b'A' b'l' b'l' b' ' b'r' b'i' b'g' b'h' b't' b' ' b'J' b'i' b'm' b'.'\n",
            " b' ' b'Y' b'o' b'u' b'r' b' ' b'q' b'u' b'a' b'r' b't' b'e' b'r' b'l'\n",
            " b'i' b'e' b's' b' ' b'l' b'o' b'o' b'k' b' ' b'v' b'e' b'r' b'y' b' '\n",
            " b'g' b'o' b'o' b'd' b'.' b' ' b'H' b'o' b'w' b' ' b'a' b'r' b'e' b' '\n",
            " b't' b'h' b'i' b'n' b'g' b's' b' ' b'a' b't' b' ' b't' b'h' b'e' b' '\n",
            " b'l' b'i' b'b' b'r' b'a' b'r' b'y' b'?' b' ' b'S' b'o' b' ' b'y' b'o'\n",
            " b'u' b\"'\" b'v' b'e' b' ' b'c' b'o' b'm' b'e' b' ' b't' b'o' b' ' b't'\n",
            " b'h' b'e' b' ' b'm' b'a' b's' b't' b'e' b'r' b' ' b'f' b'o' b'r' b' '\n",
            " b'g' b'u' b'i' b'd' b'a' b'n' b'c' b'e' b'?' b' ' b'I' b's' b' ' b't'\n",
            " b'h' b'i' b's' b' ' b'w' b'h' b'a' b't' b' ' b'y' b'o' b'u' b\"'\" b'r'\n",
            " b'e' b' ' b's' b'a' b'y' b'i' b'n' b'g' b',' b' ' b'g'], shape=(151,), dtype=string)\n"
          ]
        }
      ],
      "source": [
        "sequences = ids_dataset.batch(seq_length+1, drop_remainder=True)\n",
        "\n",
        "for seq in sequences.take(1):\n",
        "  print(chars_from_ids(seq))"
      ]
    },
    {
      "cell_type": "markdown",
      "metadata": {
        "id": "5PHW902-4oZt"
      },
      "source": [
        "It's easier to see what this is doing if you join the tokens back into strings:"
      ]
    },
    {
      "cell_type": "code",
      "execution_count": 68,
      "metadata": {
        "id": "QO32cMWu4a06",
        "outputId": "7803bc6c-d2a6-4460-8228-59101e275e86",
        "colab": {
          "base_uri": "https://localhost:8080/"
        }
      },
      "outputs": [
        {
          "output_type": "stream",
          "name": "stdout",
          "text": [
            "b\"All right Jim. Your quarterlies look very good. How are things at the library? So you've come to the master for guidance? Is this what you're saying, g\"\n",
            "b\"rasshopper? All right. Well, let me show you how it's done. So that's the way it's done. I've, uh, I've been at Dunder Mifflin for 12 years, the last f\"\n",
            "b'our as Regional Manager. If you want to come through here... See we have the entire floor. So this is my kingdom, as far as the eye can see. This is ou'\n",
            "b\"r receptionist, Pam. Pam! Pam-Pam! Pam Beesly. Pam has been with us for... forever. Right, Pam? If you think she's cute now, you should have seen her a\"\n",
            "b\" couple of years ago. Any messages? Oh! Pam, this is from Corporate. How many times have I told you? There's a special filing cabinet for things from c\"\n"
          ]
        }
      ],
      "source": [
        "for seq in sequences.take(5):\n",
        "  print(text_from_ids(seq).numpy())"
      ]
    },
    {
      "cell_type": "markdown",
      "metadata": {
        "id": "UbLcIPBj_mWZ"
      },
      "source": [
        "For training you'll need a dataset of `(input, label)` pairs. Where `input` and \n",
        "`label` are sequences. At each time step the input is the current character and the label is the next character. \n",
        "\n",
        "Here's a function that takes a sequence as input, duplicates, and shifts it to align the input and label for each timestep:"
      ]
    },
    {
      "cell_type": "code",
      "execution_count": 69,
      "metadata": {
        "id": "9NGu-FkO_kYU"
      },
      "outputs": [],
      "source": [
        "def split_input_target(sequence):\n",
        "    input_text = sequence[:-1]\n",
        "    target_text = sequence[1:]\n",
        "    return input_text, target_text"
      ]
    },
    {
      "cell_type": "code",
      "execution_count": 70,
      "metadata": {
        "id": "WxbDTJTw5u_P",
        "outputId": "608c47d7-db42-45b0-cc5b-c9ca78c5608c",
        "colab": {
          "base_uri": "https://localhost:8080/"
        }
      },
      "outputs": [
        {
          "output_type": "execute_result",
          "data": {
            "text/plain": [
              "(['T', 'e', 'n', 's', 'o', 'r', 'f', 'l', 'o'],\n",
              " ['e', 'n', 's', 'o', 'r', 'f', 'l', 'o', 'w'])"
            ]
          },
          "metadata": {},
          "execution_count": 70
        }
      ],
      "source": [
        "split_input_target(list(\"Tensorflow\"))"
      ]
    },
    {
      "cell_type": "code",
      "execution_count": 71,
      "metadata": {
        "id": "B9iKPXkw5xwa"
      },
      "outputs": [],
      "source": [
        "dataset = sequences.map(split_input_target)"
      ]
    },
    {
      "cell_type": "code",
      "execution_count": 72,
      "metadata": {
        "id": "GNbw-iR0ymwj",
        "outputId": "be57cee4-3e5d-4423-fde1-9cd3de6e9c73",
        "colab": {
          "base_uri": "https://localhost:8080/"
        }
      },
      "outputs": [
        {
          "output_type": "stream",
          "name": "stdout",
          "text": [
            "Input : b\"All right Jim. Your quarterlies look very good. How are things at the library? So you've come to the master for guidance? Is this what you're saying, \"\n",
            "Target: b\"ll right Jim. Your quarterlies look very good. How are things at the library? So you've come to the master for guidance? Is this what you're saying, g\"\n"
          ]
        }
      ],
      "source": [
        "for input_example, target_example in dataset.take(1):\n",
        "    print(\"Input :\", text_from_ids(input_example).numpy())\n",
        "    print(\"Target:\", text_from_ids(target_example).numpy())"
      ]
    },
    {
      "cell_type": "markdown",
      "metadata": {
        "id": "MJdfPmdqzf-R"
      },
      "source": [
        "### Create training batches\n",
        "\n",
        "You used `tf.data` to split the text into manageable sequences. But before feeding this data into the model, you need to shuffle the data and pack it into batches."
      ]
    },
    {
      "cell_type": "code",
      "execution_count": 73,
      "metadata": {
        "id": "p2pGotuNzf-S",
        "outputId": "0ccbd1c8-9bc0-4379-b0de-874ee461afa6",
        "colab": {
          "base_uri": "https://localhost:8080/"
        }
      },
      "outputs": [
        {
          "output_type": "execute_result",
          "data": {
            "text/plain": [
              "<PrefetchDataset shapes: ((64, 150), (64, 150)), types: (tf.int64, tf.int64)>"
            ]
          },
          "metadata": {},
          "execution_count": 73
        }
      ],
      "source": [
        "# Batch size\n",
        "BATCH_SIZE = 64\n",
        "\n",
        "# Buffer size to shuffle the dataset\n",
        "# (TF data is designed to work with possibly infinite sequences,\n",
        "# so it doesn't attempt to shuffle the entire sequence in memory. Instead,\n",
        "# it maintains a buffer in which it shuffles elements).\n",
        "BUFFER_SIZE = 10000\n",
        "\n",
        "dataset = (\n",
        "    dataset\n",
        "    .shuffle(BUFFER_SIZE)\n",
        "    .batch(BATCH_SIZE, drop_remainder=True)\n",
        "    .prefetch(tf.data.experimental.AUTOTUNE))\n",
        "\n",
        "dataset"
      ]
    },
    {
      "cell_type": "markdown",
      "metadata": {
        "id": "r6oUuElIMgVx"
      },
      "source": [
        "## Build The Model"
      ]
    },
    {
      "cell_type": "markdown",
      "metadata": {
        "id": "m8gPwEjRzf-Z"
      },
      "source": [
        "This section defines the model as a `keras.Model` subclass (For details see [Making new Layers and Models via subclassing](https://www.tensorflow.org/guide/keras/custom_layers_and_models)). \n",
        "\n",
        "This model has three layers:\n",
        "\n",
        "* `tf.keras.layers.Embedding`: The input layer. A trainable lookup table that will map each character-ID to a vector with `embedding_dim` dimensions;\n",
        "* `tf.keras.layers.GRU`: A type of RNN with size `units=rnn_units` (You can also use an LSTM layer here.)\n",
        "* `tf.keras.layers.Dense`: The output layer, with `vocab_size` outputs. It outputs one logit for each character in the vocabulary. These are the log-likelihood of each character according to the model."
      ]
    },
    {
      "cell_type": "code",
      "execution_count": 74,
      "metadata": {
        "id": "zHT8cLh7EAsg"
      },
      "outputs": [],
      "source": [
        "# Length of the vocabulary in chars\n",
        "vocab_size = len(vocab)\n",
        "\n",
        "# The embedding dimension\n",
        "embedding_dim = 256\n",
        "\n",
        "# Number of RNN units\n",
        "rnn_units = 1024"
      ]
    },
    {
      "cell_type": "code",
      "execution_count": 75,
      "metadata": {
        "id": "wj8HQ2w8z4iO"
      },
      "outputs": [],
      "source": [
        "class MyModel(tf.keras.Model):\n",
        "  def __init__(self, vocab_size, embedding_dim, rnn_units):\n",
        "    super().__init__(self)\n",
        "    self.embedding = tf.keras.layers.Embedding(vocab_size, embedding_dim)\n",
        "    self.gru = tf.keras.layers.GRU(rnn_units,\n",
        "                                   return_sequences=True,\n",
        "                                   return_state=True)\n",
        "    self.dense = tf.keras.layers.Dense(vocab_size)\n",
        "\n",
        "  def call(self, inputs, states=None, return_state=False, training=False):\n",
        "    x = inputs\n",
        "    x = self.embedding(x, training=training)\n",
        "    if states is None:\n",
        "      states = self.gru.get_initial_state(x)\n",
        "    x, states = self.gru(x, initial_state=states, training=training)\n",
        "    x = self.dense(x, training=training)\n",
        "\n",
        "    if return_state:\n",
        "      return x, states\n",
        "    else:\n",
        "      return x"
      ]
    },
    {
      "cell_type": "code",
      "execution_count": 76,
      "metadata": {
        "id": "IX58Xj9z47Aw"
      },
      "outputs": [],
      "source": [
        "model = MyModel(\n",
        "    # Be sure the vocabulary size matches the `StringLookup` layers.\n",
        "    vocab_size=len(ids_from_chars.get_vocabulary()),\n",
        "    embedding_dim=embedding_dim,\n",
        "    rnn_units=rnn_units)"
      ]
    },
    {
      "cell_type": "markdown",
      "metadata": {
        "id": "RkA5upJIJ7W7"
      },
      "source": [
        "For each character the model looks up the embedding, runs the GRU one timestep with the embedding as input, and applies the dense layer to generate logits predicting the log-likelihood of the next character:\n",
        "\n",
        "![A drawing of the data passing through the model](https://github.com/tensorflow/text/blob/master/docs/tutorials/images/text_generation_training.png?raw=1)"
      ]
    },
    {
      "cell_type": "markdown",
      "metadata": {
        "id": "gKbfm04amhXk"
      },
      "source": [
        "Note: For training you could use a `keras.Sequential` model here. To  generate text later you'll need to manage the RNN's internal state. It's simpler to include the state input and output options upfront, than it is to rearrange the model architecture later. For more details see the [Keras RNN guide](https://www.tensorflow.org/guide/keras/rnn#rnn_state_reuse)."
      ]
    },
    {
      "cell_type": "markdown",
      "metadata": {
        "id": "-ubPo0_9Prjb"
      },
      "source": [
        "## Try the model\n",
        "\n",
        "Now run the model to see that it behaves as expected.\n",
        "\n",
        "First check the shape of the output:"
      ]
    },
    {
      "cell_type": "code",
      "execution_count": 77,
      "metadata": {
        "id": "C-_70kKAPrPU",
        "outputId": "17ada371-df72-4939-a112-043d43e765e4",
        "colab": {
          "base_uri": "https://localhost:8080/"
        }
      },
      "outputs": [
        {
          "output_type": "stream",
          "name": "stdout",
          "text": [
            "(64, 150, 85) # (batch_size, sequence_length, vocab_size)\n"
          ]
        }
      ],
      "source": [
        "for input_example_batch, target_example_batch in dataset.take(1):\n",
        "    example_batch_predictions = model(input_example_batch)\n",
        "    print(example_batch_predictions.shape, \"# (batch_size, sequence_length, vocab_size)\")"
      ]
    },
    {
      "cell_type": "markdown",
      "metadata": {
        "id": "Q6NzLBi4VM4o"
      },
      "source": [
        "In the above example the sequence length of the input is `100` but the model can be run on inputs of any length:"
      ]
    },
    {
      "cell_type": "code",
      "execution_count": 81,
      "metadata": {
        "id": "vPGmAAXmVLGC",
        "outputId": "18ccf805-b6bb-4475-b7fe-50094458ac12",
        "colab": {
          "base_uri": "https://localhost:8080/"
        }
      },
      "outputs": [
        {
          "output_type": "stream",
          "name": "stdout",
          "text": [
            "Model: \"my_model_3\"\n",
            "_________________________________________________________________\n",
            " Layer (type)                Output Shape              Param #   \n",
            "=================================================================\n",
            " embedding_3 (Embedding)     multiple                  21760     \n",
            "                                                                 \n",
            " gru_3 (GRU)                 multiple                  3938304   \n",
            "                                                                 \n",
            " dense_3 (Dense)             multiple                  87125     \n",
            "                                                                 \n",
            "=================================================================\n",
            "Total params: 4,047,189\n",
            "Trainable params: 4,047,189\n",
            "Non-trainable params: 0\n",
            "_________________________________________________________________\n"
          ]
        }
      ],
      "source": [
        "model.summary()"
      ]
    },
    {
      "cell_type": "markdown",
      "metadata": {
        "id": "uwv0gEkURfx1"
      },
      "source": [
        "To get actual predictions from the model you need to sample from the output distribution, to get actual character indices. This distribution is defined by the logits over the character vocabulary.\n",
        "\n",
        "Note: It is important to _sample_ from this distribution as taking the _argmax_ of the distribution can easily get the model stuck in a loop.\n",
        "\n",
        "Try it for the first example in the batch:"
      ]
    },
    {
      "cell_type": "code",
      "execution_count": 82,
      "metadata": {
        "id": "4V4MfFg0RQJg"
      },
      "outputs": [],
      "source": [
        "sampled_indices = tf.random.categorical(example_batch_predictions[0], num_samples=1)\n",
        "sampled_indices = tf.squeeze(sampled_indices, axis=-1).numpy()"
      ]
    },
    {
      "cell_type": "markdown",
      "metadata": {
        "id": "QM1Vbxs_URw5"
      },
      "source": [
        "This gives us, at each timestep, a prediction of the next character index:"
      ]
    },
    {
      "cell_type": "code",
      "execution_count": 83,
      "metadata": {
        "id": "YqFMUQc_UFgM",
        "outputId": "99c338e2-a196-457d-e201-20dcda86c76d",
        "colab": {
          "base_uri": "https://localhost:8080/"
        }
      },
      "outputs": [
        {
          "output_type": "execute_result",
          "data": {
            "text/plain": [
              "array([23, 47, 38, 14, 21, 26, 60, 62, 76, 20,  7, 75, 61, 36, 14,  0, 18,\n",
              "       68, 31, 30,  0, 54, 30, 33, 25, 21, 34, 48,  7, 30, 40, 29, 46, 77,\n",
              "       61, 78, 54, 45, 25,  3, 18, 62, 82, 15, 78,  3, 51, 23, 14, 20, 80,\n",
              "       75, 59, 77, 78, 46, 64, 18, 68, 21, 30, 48,  4,  1, 83, 24, 33, 49,\n",
              "       68, 40, 14, 54,  8, 60, 60, 11, 50, 64, 41,  4, 58, 16, 72, 64, 41,\n",
              "        9, 68, 22, 23, 41, 12, 36,  3, 75, 71, 37, 25, 60, 32, 20, 20, 15,\n",
              "       74, 40,  6, 25, 49,  3, 13, 79, 52, 25, 66, 68, 14, 53, 22, 11,  0,\n",
              "       58, 16, 37, 45, 74, 28, 33, 60, 12, 20, 53, 62, 11, 74, 79,  7, 13,\n",
              "       13, 17, 38, 36, 39, 65, 57, 61,  4,  8, 35, 59, 25, 54])"
            ]
          },
          "metadata": {},
          "execution_count": 83
        }
      ],
      "source": [
        "sampled_indices"
      ]
    },
    {
      "cell_type": "markdown",
      "metadata": {
        "id": "LfLtsP3mUhCG"
      },
      "source": [
        "Decode these to see the text predicted by this untrained model:"
      ]
    },
    {
      "cell_type": "code",
      "execution_count": 84,
      "metadata": {
        "id": "xWcFwPwLSo05",
        "outputId": "e2f086a8-fc27-494b-9afa-c9db06173ec2",
        "colab": {
          "base_uri": "https://localhost:8080/"
        }
      },
      "outputs": [
        {
          "output_type": "stream",
          "name": "stdout",
          "text": [
            "Input:\n",
            " b\"e wrong. You are wrong. I remember every second of us. And talking to them today, I don't feel for them anything like what I feel for you. I didn't jo\"\n",
            "\n",
            "Next Char Predictions:\n",
            " b'7QH.5:bdr4\\'qcF.[UNK]2jA@[UNK]X@C95DR\\'@J?PsctXO9\"2dx/t\"U7.4vqastPf2j5@R$ y8CSjJ.X(bb+TfK$]0nfK)j67K,F\"qmG9bB44/pJ&9S\"-uV9hj.W6+[UNK]]0GOp=Cb,4Wd+pu\\'--1HFIg[c$(Ea9X'\n"
          ]
        }
      ],
      "source": [
        "print(\"Input:\\n\", text_from_ids(input_example_batch[0]).numpy())\n",
        "print()\n",
        "print(\"Next Char Predictions:\\n\", text_from_ids(sampled_indices).numpy())"
      ]
    },
    {
      "cell_type": "markdown",
      "metadata": {
        "id": "LJL0Q0YPY6Ee"
      },
      "source": [
        "## Train the model"
      ]
    },
    {
      "cell_type": "markdown",
      "metadata": {
        "id": "YCbHQHiaa4Ic"
      },
      "source": [
        "At this point the problem can be treated as a standard classification problem. Given the previous RNN state, and the input this time step, predict the class of the next character."
      ]
    },
    {
      "cell_type": "markdown",
      "metadata": {
        "id": "trpqTWyvk0nr"
      },
      "source": [
        "### Attach an optimizer, and a loss function"
      ]
    },
    {
      "cell_type": "markdown",
      "metadata": {
        "id": "UAjbjY03eiQ4"
      },
      "source": [
        "The standard `tf.keras.losses.sparse_categorical_crossentropy` loss function works in this case because it is applied across the last dimension of the predictions.\n",
        "\n",
        "Because your model returns logits, you need to set the `from_logits` flag.\n"
      ]
    },
    {
      "cell_type": "code",
      "execution_count": 85,
      "metadata": {
        "id": "ZOeWdgxNFDXq"
      },
      "outputs": [],
      "source": [
        "loss = tf.losses.SparseCategoricalCrossentropy(from_logits=True)"
      ]
    },
    {
      "cell_type": "code",
      "execution_count": 86,
      "metadata": {
        "id": "4HrXTACTdzY-",
        "outputId": "e3fd83ec-a159-4aeb-92b0-977447ad20ff",
        "colab": {
          "base_uri": "https://localhost:8080/"
        }
      },
      "outputs": [
        {
          "output_type": "stream",
          "name": "stdout",
          "text": [
            "Prediction shape:  (64, 150, 85)  # (batch_size, sequence_length, vocab_size)\n",
            "Mean loss:         tf.Tensor(4.444301, shape=(), dtype=float32)\n"
          ]
        }
      ],
      "source": [
        "example_batch_mean_loss = loss(target_example_batch, example_batch_predictions)\n",
        "print(\"Prediction shape: \", example_batch_predictions.shape, \" # (batch_size, sequence_length, vocab_size)\")\n",
        "print(\"Mean loss:        \", example_batch_mean_loss)"
      ]
    },
    {
      "cell_type": "markdown",
      "metadata": {
        "id": "vkvUIneTFiow"
      },
      "source": [
        "A newly initialized model shouldn't be too sure of itself, the output logits should all have similar magnitudes. To confirm this you can check that the exponential of the mean loss is approximately equal to the vocabulary size. A much higher loss means the model is sure of its wrong answers, and is badly initialized:"
      ]
    },
    {
      "cell_type": "code",
      "execution_count": 87,
      "metadata": {
        "id": "MAJfS5YoFiHf",
        "outputId": "01d36395-1101-4922-b1aa-ba8aaba85784",
        "colab": {
          "base_uri": "https://localhost:8080/"
        }
      },
      "outputs": [
        {
          "output_type": "execute_result",
          "data": {
            "text/plain": [
              "85.14036"
            ]
          },
          "metadata": {},
          "execution_count": 87
        }
      ],
      "source": [
        "tf.exp(example_batch_mean_loss).numpy()"
      ]
    },
    {
      "cell_type": "markdown",
      "metadata": {
        "id": "jeOXriLcymww"
      },
      "source": [
        "Configure the training procedure using the `tf.keras.Model.compile` method. Use `tf.keras.optimizers.Adam` with default arguments and the loss function."
      ]
    },
    {
      "cell_type": "code",
      "execution_count": 88,
      "metadata": {
        "id": "DDl1_Een6rL0"
      },
      "outputs": [],
      "source": [
        "model.compile(optimizer='adam', loss=loss, metrics=['accuracy'])"
      ]
    },
    {
      "cell_type": "markdown",
      "metadata": {
        "id": "ieSJdchZggUj"
      },
      "source": [
        "### Configure checkpoints"
      ]
    },
    {
      "cell_type": "markdown",
      "metadata": {
        "id": "C6XBUUavgF56"
      },
      "source": [
        "Use a `tf.keras.callbacks.ModelCheckpoint` to ensure that checkpoints are saved during training:"
      ]
    },
    {
      "cell_type": "code",
      "execution_count": 89,
      "metadata": {
        "id": "W6fWTriUZP-n"
      },
      "outputs": [],
      "source": [
        "# Directory where the checkpoints will be saved\n",
        "checkpoint_dir = './training_checkpoints'\n",
        "# Name of the checkpoint files\n",
        "checkpoint_prefix = os.path.join(checkpoint_dir, \"ckpt_{epoch}\")\n",
        "\n",
        "checkpoint_callback = tf.keras.callbacks.ModelCheckpoint(\n",
        "    filepath=checkpoint_prefix,\n",
        "    save_weights_only=True)\n",
        "\n",
        "early_stop = tf.keras.callbacks.EarlyStopping(monitor='loss', restore_best_weights=True, patience=40)"
      ]
    },
    {
      "cell_type": "markdown",
      "metadata": {
        "id": "3Ky3F_BhgkTW"
      },
      "source": [
        "### Execute the training"
      ]
    },
    {
      "cell_type": "markdown",
      "metadata": {
        "id": "IxdOA-rgyGvs"
      },
      "source": [
        "To keep training time reasonable, use 10 epochs to train the model. In Colab, set the runtime to GPU for faster training."
      ]
    },
    {
      "cell_type": "code",
      "execution_count": 90,
      "metadata": {
        "id": "7yGBE2zxMMHs"
      },
      "outputs": [],
      "source": [
        "EPOCHS = 500"
      ]
    },
    {
      "cell_type": "code",
      "execution_count": 91,
      "metadata": {
        "id": "UK-hmKjYVoll",
        "outputId": "07167ad9-ba70-4a0c-b34d-84ce68462da9",
        "colab": {
          "base_uri": "https://localhost:8080/"
        }
      },
      "outputs": [
        {
          "output_type": "stream",
          "name": "stdout",
          "text": [
            "Epoch 1/500\n",
            "87/87 [==============================] - 7s 59ms/step - loss: 3.0735 - accuracy: 0.2387\n",
            "Epoch 2/500\n",
            "87/87 [==============================] - 6s 58ms/step - loss: 2.2447 - accuracy: 0.3642\n",
            "Epoch 3/500\n",
            "87/87 [==============================] - 6s 59ms/step - loss: 1.9837 - accuracy: 0.4297\n",
            "Epoch 4/500\n",
            "87/87 [==============================] - 6s 59ms/step - loss: 1.7779 - accuracy: 0.4842\n",
            "Epoch 5/500\n",
            "87/87 [==============================] - 6s 59ms/step - loss: 1.6256 - accuracy: 0.5240\n",
            "Epoch 6/500\n",
            "87/87 [==============================] - 6s 59ms/step - loss: 1.5140 - accuracy: 0.5527\n",
            "Epoch 7/500\n",
            "87/87 [==============================] - 6s 60ms/step - loss: 1.4301 - accuracy: 0.5740\n",
            "Epoch 8/500\n",
            "87/87 [==============================] - 6s 60ms/step - loss: 1.3660 - accuracy: 0.5903\n",
            "Epoch 9/500\n",
            "87/87 [==============================] - 6s 58ms/step - loss: 1.3141 - accuracy: 0.6036\n",
            "Epoch 10/500\n",
            "87/87 [==============================] - 6s 59ms/step - loss: 1.2696 - accuracy: 0.6156\n",
            "Epoch 11/500\n",
            "87/87 [==============================] - 6s 59ms/step - loss: 1.2280 - accuracy: 0.6266\n",
            "Epoch 12/500\n",
            "87/87 [==============================] - 6s 60ms/step - loss: 1.1897 - accuracy: 0.6366\n",
            "Epoch 13/500\n",
            "87/87 [==============================] - 6s 59ms/step - loss: 1.1533 - accuracy: 0.6465\n",
            "Epoch 14/500\n",
            "87/87 [==============================] - 6s 60ms/step - loss: 1.1175 - accuracy: 0.6566\n",
            "Epoch 15/500\n",
            "87/87 [==============================] - 6s 59ms/step - loss: 1.0796 - accuracy: 0.6674\n",
            "Epoch 16/500\n",
            "87/87 [==============================] - 6s 58ms/step - loss: 1.0414 - accuracy: 0.6786\n",
            "Epoch 17/500\n",
            "87/87 [==============================] - 6s 59ms/step - loss: 1.0024 - accuracy: 0.6900\n",
            "Epoch 18/500\n",
            "87/87 [==============================] - 6s 60ms/step - loss: 0.9607 - accuracy: 0.7026\n",
            "Epoch 19/500\n",
            "87/87 [==============================] - 6s 59ms/step - loss: 0.9180 - accuracy: 0.7158\n",
            "Epoch 20/500\n",
            "87/87 [==============================] - 6s 59ms/step - loss: 0.8717 - accuracy: 0.7298\n",
            "Epoch 21/500\n",
            "87/87 [==============================] - 6s 59ms/step - loss: 0.8241 - accuracy: 0.7449\n",
            "Epoch 22/500\n",
            "87/87 [==============================] - 6s 59ms/step - loss: 0.7754 - accuracy: 0.7614\n",
            "Epoch 23/500\n",
            "87/87 [==============================] - 6s 60ms/step - loss: 0.7266 - accuracy: 0.7769\n",
            "Epoch 24/500\n",
            "87/87 [==============================] - 6s 59ms/step - loss: 0.6761 - accuracy: 0.7937\n",
            "Epoch 25/500\n",
            "87/87 [==============================] - 6s 60ms/step - loss: 0.6274 - accuracy: 0.8095\n",
            "Epoch 26/500\n",
            "87/87 [==============================] - 6s 58ms/step - loss: 0.5811 - accuracy: 0.8248\n",
            "Epoch 27/500\n",
            "87/87 [==============================] - 6s 59ms/step - loss: 0.5361 - accuracy: 0.8397\n",
            "Epoch 28/500\n",
            "87/87 [==============================] - 6s 58ms/step - loss: 0.4970 - accuracy: 0.8519\n",
            "Epoch 29/500\n",
            "87/87 [==============================] - 6s 59ms/step - loss: 0.4606 - accuracy: 0.8634\n",
            "Epoch 30/500\n",
            "87/87 [==============================] - 6s 58ms/step - loss: 0.4274 - accuracy: 0.8741\n",
            "Epoch 31/500\n",
            "87/87 [==============================] - 6s 59ms/step - loss: 0.3984 - accuracy: 0.8829\n",
            "Epoch 32/500\n",
            "87/87 [==============================] - 6s 59ms/step - loss: 0.3756 - accuracy: 0.8896\n",
            "Epoch 33/500\n",
            "87/87 [==============================] - 6s 58ms/step - loss: 0.3525 - accuracy: 0.8967\n",
            "Epoch 34/500\n",
            "87/87 [==============================] - 6s 59ms/step - loss: 0.3336 - accuracy: 0.9018\n",
            "Epoch 35/500\n",
            "87/87 [==============================] - 6s 58ms/step - loss: 0.3170 - accuracy: 0.9070\n",
            "Epoch 36/500\n",
            "87/87 [==============================] - 6s 59ms/step - loss: 0.3025 - accuracy: 0.9111\n",
            "Epoch 37/500\n",
            "87/87 [==============================] - 6s 60ms/step - loss: 0.2942 - accuracy: 0.9125\n",
            "Epoch 38/500\n",
            "87/87 [==============================] - 6s 59ms/step - loss: 0.2813 - accuracy: 0.9162\n",
            "Epoch 39/500\n",
            "87/87 [==============================] - 6s 59ms/step - loss: 0.2713 - accuracy: 0.9192\n",
            "Epoch 40/500\n",
            "87/87 [==============================] - 6s 58ms/step - loss: 0.2625 - accuracy: 0.9217\n",
            "Epoch 41/500\n",
            "87/87 [==============================] - 6s 59ms/step - loss: 0.2597 - accuracy: 0.9218\n",
            "Epoch 42/500\n",
            "87/87 [==============================] - 6s 58ms/step - loss: 0.2525 - accuracy: 0.9239\n",
            "Epoch 43/500\n",
            "87/87 [==============================] - 6s 58ms/step - loss: 0.2446 - accuracy: 0.9260\n",
            "Epoch 44/500\n",
            "87/87 [==============================] - 6s 58ms/step - loss: 0.2376 - accuracy: 0.9280\n",
            "Epoch 45/500\n",
            "87/87 [==============================] - 6s 58ms/step - loss: 0.2328 - accuracy: 0.9290\n",
            "Epoch 46/500\n",
            "87/87 [==============================] - 6s 58ms/step - loss: 0.2288 - accuracy: 0.9303\n",
            "Epoch 47/500\n",
            "87/87 [==============================] - 6s 58ms/step - loss: 0.2254 - accuracy: 0.9308\n",
            "Epoch 48/500\n",
            "87/87 [==============================] - 6s 59ms/step - loss: 0.2241 - accuracy: 0.9304\n",
            "Epoch 49/500\n",
            "87/87 [==============================] - 6s 58ms/step - loss: 0.2253 - accuracy: 0.9296\n",
            "Epoch 50/500\n",
            "87/87 [==============================] - 6s 58ms/step - loss: 0.2250 - accuracy: 0.9289\n",
            "Epoch 51/500\n",
            "87/87 [==============================] - 6s 58ms/step - loss: 0.2268 - accuracy: 0.9279\n",
            "Epoch 52/500\n",
            "87/87 [==============================] - 6s 58ms/step - loss: 0.2290 - accuracy: 0.9267\n",
            "Epoch 53/500\n",
            "87/87 [==============================] - 6s 58ms/step - loss: 0.2286 - accuracy: 0.9263\n",
            "Epoch 54/500\n",
            "87/87 [==============================] - 6s 58ms/step - loss: 0.2273 - accuracy: 0.9267\n",
            "Epoch 55/500\n",
            "87/87 [==============================] - 6s 59ms/step - loss: 0.2244 - accuracy: 0.9278\n",
            "Epoch 56/500\n",
            "87/87 [==============================] - 6s 58ms/step - loss: 0.2181 - accuracy: 0.9297\n",
            "Epoch 57/500\n",
            "87/87 [==============================] - 6s 58ms/step - loss: 0.2108 - accuracy: 0.9327\n",
            "Epoch 58/500\n",
            "87/87 [==============================] - 6s 58ms/step - loss: 0.2048 - accuracy: 0.9345\n",
            "Epoch 59/500\n",
            "87/87 [==============================] - 6s 58ms/step - loss: 0.2005 - accuracy: 0.9361\n",
            "Epoch 60/500\n",
            "87/87 [==============================] - 6s 59ms/step - loss: 0.1988 - accuracy: 0.9364\n",
            "Epoch 61/500\n",
            "87/87 [==============================] - 6s 58ms/step - loss: 0.1969 - accuracy: 0.9372\n",
            "Epoch 62/500\n",
            "87/87 [==============================] - 6s 59ms/step - loss: 0.1990 - accuracy: 0.9362\n",
            "Epoch 63/500\n",
            "87/87 [==============================] - 6s 58ms/step - loss: 0.1986 - accuracy: 0.9359\n",
            "Epoch 64/500\n",
            "87/87 [==============================] - 6s 58ms/step - loss: 0.2015 - accuracy: 0.9345\n",
            "Epoch 65/500\n",
            "87/87 [==============================] - 6s 58ms/step - loss: 0.2013 - accuracy: 0.9344\n",
            "Epoch 66/500\n",
            "87/87 [==============================] - 6s 58ms/step - loss: 0.2097 - accuracy: 0.9308\n",
            "Epoch 67/500\n",
            "87/87 [==============================] - 6s 58ms/step - loss: 0.2219 - accuracy: 0.9262\n",
            "Epoch 68/500\n",
            "87/87 [==============================] - 6s 58ms/step - loss: 0.2281 - accuracy: 0.9236\n",
            "Epoch 69/500\n",
            "87/87 [==============================] - 6s 59ms/step - loss: 0.2373 - accuracy: 0.9198\n",
            "Epoch 70/500\n",
            "87/87 [==============================] - 6s 58ms/step - loss: 0.2382 - accuracy: 0.9197\n",
            "Epoch 71/500\n",
            "87/87 [==============================] - 6s 58ms/step - loss: 0.2398 - accuracy: 0.9191\n",
            "Epoch 72/500\n",
            "87/87 [==============================] - 6s 58ms/step - loss: 0.2347 - accuracy: 0.9212\n",
            "Epoch 73/500\n",
            "87/87 [==============================] - 6s 58ms/step - loss: 0.2241 - accuracy: 0.9249\n",
            "Epoch 74/500\n",
            "87/87 [==============================] - 6s 58ms/step - loss: 0.2117 - accuracy: 0.9293\n",
            "Epoch 75/500\n",
            "87/87 [==============================] - 6s 58ms/step - loss: 0.1975 - accuracy: 0.9351\n",
            "Epoch 76/500\n",
            "87/87 [==============================] - 6s 59ms/step - loss: 0.1867 - accuracy: 0.9387\n",
            "Epoch 77/500\n",
            "87/87 [==============================] - 6s 58ms/step - loss: 0.1745 - accuracy: 0.9435\n",
            "Epoch 78/500\n",
            "87/87 [==============================] - 6s 59ms/step - loss: 0.1641 - accuracy: 0.9471\n",
            "Epoch 79/500\n",
            "87/87 [==============================] - 6s 58ms/step - loss: 0.1576 - accuracy: 0.9497\n",
            "Epoch 80/500\n",
            "87/87 [==============================] - 6s 59ms/step - loss: 0.1521 - accuracy: 0.9519\n",
            "Epoch 81/500\n",
            "87/87 [==============================] - 6s 58ms/step - loss: 0.1508 - accuracy: 0.9522\n",
            "Epoch 82/500\n",
            "87/87 [==============================] - 6s 58ms/step - loss: 0.1520 - accuracy: 0.9516\n",
            "Epoch 83/500\n",
            "87/87 [==============================] - 6s 59ms/step - loss: 0.1569 - accuracy: 0.9494\n",
            "Epoch 84/500\n",
            "87/87 [==============================] - 6s 58ms/step - loss: 0.1650 - accuracy: 0.9465\n",
            "Epoch 85/500\n",
            "87/87 [==============================] - 6s 58ms/step - loss: 0.1919 - accuracy: 0.9358\n",
            "Epoch 86/500\n",
            "87/87 [==============================] - 6s 58ms/step - loss: 0.2331 - accuracy: 0.9207\n",
            "Epoch 87/500\n",
            "87/87 [==============================] - 6s 58ms/step - loss: 0.2969 - accuracy: 0.8987\n",
            "Epoch 88/500\n",
            "87/87 [==============================] - 6s 58ms/step - loss: 0.3613 - accuracy: 0.8776\n",
            "Epoch 89/500\n",
            "87/87 [==============================] - 6s 58ms/step - loss: 0.3926 - accuracy: 0.8677\n",
            "Epoch 90/500\n",
            "87/87 [==============================] - 6s 59ms/step - loss: 0.3869 - accuracy: 0.8692\n",
            "Epoch 91/500\n",
            "87/87 [==============================] - 6s 58ms/step - loss: 0.3550 - accuracy: 0.8784\n",
            "Epoch 92/500\n",
            "87/87 [==============================] - 6s 58ms/step - loss: 0.3220 - accuracy: 0.8893\n",
            "Epoch 93/500\n",
            "87/87 [==============================] - 6s 58ms/step - loss: 0.2842 - accuracy: 0.9021\n",
            "Epoch 94/500\n",
            "87/87 [==============================] - 6s 58ms/step - loss: 0.2483 - accuracy: 0.9151\n",
            "Epoch 95/500\n",
            "87/87 [==============================] - 6s 58ms/step - loss: 0.2183 - accuracy: 0.9261\n",
            "Epoch 96/500\n",
            "87/87 [==============================] - 6s 58ms/step - loss: 0.1910 - accuracy: 0.9364\n",
            "Epoch 97/500\n",
            "87/87 [==============================] - 6s 59ms/step - loss: 0.1671 - accuracy: 0.9459\n",
            "Epoch 98/500\n",
            "87/87 [==============================] - 6s 58ms/step - loss: 0.1461 - accuracy: 0.9540\n",
            "Epoch 99/500\n",
            "87/87 [==============================] - 6s 58ms/step - loss: 0.1279 - accuracy: 0.9613\n",
            "Epoch 100/500\n",
            "87/87 [==============================] - 6s 58ms/step - loss: 0.1108 - accuracy: 0.9680\n",
            "Epoch 101/500\n",
            "87/87 [==============================] - 6s 59ms/step - loss: 0.0968 - accuracy: 0.9729\n",
            "Epoch 102/500\n",
            "87/87 [==============================] - 6s 58ms/step - loss: 0.0868 - accuracy: 0.9764\n",
            "Epoch 103/500\n",
            "87/87 [==============================] - 6s 58ms/step - loss: 0.0768 - accuracy: 0.9795\n",
            "Epoch 104/500\n",
            "87/87 [==============================] - 6s 59ms/step - loss: 0.0689 - accuracy: 0.9817\n",
            "Epoch 105/500\n",
            "87/87 [==============================] - 6s 58ms/step - loss: 0.0628 - accuracy: 0.9832\n",
            "Epoch 106/500\n",
            "87/87 [==============================] - 6s 58ms/step - loss: 0.0581 - accuracy: 0.9838\n",
            "Epoch 107/500\n",
            "87/87 [==============================] - 6s 58ms/step - loss: 0.0549 - accuracy: 0.9842\n",
            "Epoch 108/500\n",
            "87/87 [==============================] - 6s 58ms/step - loss: 0.0529 - accuracy: 0.9845\n",
            "Epoch 109/500\n",
            "87/87 [==============================] - 6s 58ms/step - loss: 0.0515 - accuracy: 0.9845\n",
            "Epoch 110/500\n",
            "87/87 [==============================] - 6s 58ms/step - loss: 0.0507 - accuracy: 0.9845\n",
            "Epoch 111/500\n",
            "87/87 [==============================] - 6s 59ms/step - loss: 0.0504 - accuracy: 0.9845\n",
            "Epoch 112/500\n",
            "87/87 [==============================] - 6s 58ms/step - loss: 0.0505 - accuracy: 0.9845\n",
            "Epoch 113/500\n",
            "87/87 [==============================] - 6s 58ms/step - loss: 0.0504 - accuracy: 0.9844\n",
            "Epoch 114/500\n",
            "87/87 [==============================] - 6s 58ms/step - loss: 0.0505 - accuracy: 0.9844\n",
            "Epoch 115/500\n",
            "87/87 [==============================] - 6s 58ms/step - loss: 0.0506 - accuracy: 0.9845\n",
            "Epoch 116/500\n",
            "87/87 [==============================] - 6s 58ms/step - loss: 0.0512 - accuracy: 0.9844\n",
            "Epoch 117/500\n",
            "87/87 [==============================] - 6s 58ms/step - loss: 0.0517 - accuracy: 0.9843\n",
            "Epoch 118/500\n",
            "87/87 [==============================] - 6s 59ms/step - loss: 0.0521 - accuracy: 0.9843\n",
            "Epoch 119/500\n",
            "87/87 [==============================] - 6s 58ms/step - loss: 0.0525 - accuracy: 0.9843\n",
            "Epoch 120/500\n",
            "87/87 [==============================] - 6s 58ms/step - loss: 0.0539 - accuracy: 0.9842\n",
            "Epoch 121/500\n",
            "87/87 [==============================] - 6s 58ms/step - loss: 0.0572 - accuracy: 0.9836\n",
            "Epoch 122/500\n",
            "87/87 [==============================] - 6s 58ms/step - loss: 0.2776 - accuracy: 0.9206\n",
            "Epoch 123/500\n",
            "87/87 [==============================] - 6s 58ms/step - loss: 1.6971 - accuracy: 0.6335\n",
            "Epoch 124/500\n",
            "87/87 [==============================] - 6s 58ms/step - loss: 1.2528 - accuracy: 0.6698\n",
            "Epoch 125/500\n",
            "87/87 [==============================] - 6s 59ms/step - loss: 0.9472 - accuracy: 0.7180\n",
            "Epoch 126/500\n",
            "87/87 [==============================] - 6s 58ms/step - loss: 0.7625 - accuracy: 0.7582\n",
            "Epoch 127/500\n",
            "87/87 [==============================] - 6s 58ms/step - loss: 0.6500 - accuracy: 0.7853\n",
            "Epoch 128/500\n",
            "87/87 [==============================] - 6s 58ms/step - loss: 0.5690 - accuracy: 0.8086\n",
            "Epoch 129/500\n",
            "87/87 [==============================] - 6s 59ms/step - loss: 0.5125 - accuracy: 0.8259\n",
            "Epoch 130/500\n",
            "87/87 [==============================] - 6s 58ms/step - loss: 0.4689 - accuracy: 0.8397\n",
            "Epoch 131/500\n",
            "87/87 [==============================] - 6s 58ms/step - loss: 0.4376 - accuracy: 0.8505\n",
            "Epoch 132/500\n",
            "87/87 [==============================] - 6s 59ms/step - loss: 0.4073 - accuracy: 0.8610\n",
            "Epoch 133/500\n",
            "87/87 [==============================] - 6s 58ms/step - loss: 0.3875 - accuracy: 0.8674\n",
            "Epoch 134/500\n",
            "87/87 [==============================] - 6s 58ms/step - loss: 0.3738 - accuracy: 0.8724\n",
            "Epoch 135/500\n",
            "87/87 [==============================] - 6s 58ms/step - loss: 0.3630 - accuracy: 0.8757\n",
            "Epoch 136/500\n",
            "87/87 [==============================] - 6s 58ms/step - loss: 0.3561 - accuracy: 0.8782\n",
            "Epoch 137/500\n",
            "87/87 [==============================] - 6s 58ms/step - loss: 0.3451 - accuracy: 0.8819\n",
            "Epoch 138/500\n",
            "87/87 [==============================] - 6s 58ms/step - loss: 0.3345 - accuracy: 0.8859\n",
            "Epoch 139/500\n",
            "87/87 [==============================] - 6s 58ms/step - loss: 0.3305 - accuracy: 0.8871\n",
            "Epoch 140/500\n",
            "87/87 [==============================] - 6s 58ms/step - loss: 0.3258 - accuracy: 0.8882\n",
            "Epoch 141/500\n",
            "87/87 [==============================] - 6s 58ms/step - loss: 0.3273 - accuracy: 0.8879\n",
            "Epoch 142/500\n",
            "87/87 [==============================] - 6s 58ms/step - loss: 0.3330 - accuracy: 0.8853\n",
            "Epoch 143/500\n",
            "87/87 [==============================] - 6s 58ms/step - loss: 0.3347 - accuracy: 0.8851\n",
            "Epoch 144/500\n",
            "87/87 [==============================] - 6s 58ms/step - loss: 0.3396 - accuracy: 0.8830\n",
            "Epoch 145/500\n",
            "87/87 [==============================] - 6s 58ms/step - loss: 0.3389 - accuracy: 0.8829\n",
            "Epoch 146/500\n",
            "87/87 [==============================] - 6s 58ms/step - loss: 0.3484 - accuracy: 0.8794\n",
            "Epoch 147/500\n",
            "87/87 [==============================] - 6s 58ms/step - loss: 0.3510 - accuracy: 0.8787\n",
            "Epoch 148/500\n",
            "87/87 [==============================] - 6s 58ms/step - loss: 0.3518 - accuracy: 0.8786\n",
            "Epoch 149/500\n",
            "87/87 [==============================] - 6s 58ms/step - loss: 0.3553 - accuracy: 0.8769\n",
            "Epoch 150/500\n",
            "87/87 [==============================] - 6s 58ms/step - loss: 0.3566 - accuracy: 0.8766\n",
            "Epoch 151/500\n",
            "87/87 [==============================] - 6s 58ms/step - loss: 0.3605 - accuracy: 0.8750\n"
          ]
        }
      ],
      "source": [
        "history = model.fit(dataset, epochs=EPOCHS, callbacks=[checkpoint_callback,early_stop])"
      ]
    },
    {
      "cell_type": "markdown",
      "metadata": {
        "id": "kKkD5M6eoSiN"
      },
      "source": [
        "## Generate text"
      ]
    },
    {
      "cell_type": "markdown",
      "metadata": {
        "id": "oIdQ8c8NvMzV"
      },
      "source": [
        "The simplest way to generate text with this model is to run it in a loop, and keep track of the model's internal state as you execute it.\n",
        "\n",
        "![To generate text the model's output is fed back to the input](https://github.com/tensorflow/text/blob/master/docs/tutorials/images/text_generation_sampling.png?raw=1)\n",
        "\n",
        "Each time you call the model you pass in some text and an internal state. The model returns a prediction for the next character and its new state. Pass the prediction and state back in to continue generating text.\n"
      ]
    },
    {
      "cell_type": "markdown",
      "metadata": {
        "id": "DjGz1tDkzf-u"
      },
      "source": [
        "The following makes a single step prediction:"
      ]
    },
    {
      "cell_type": "code",
      "execution_count": 136,
      "metadata": {
        "id": "iSBU1tHmlUSs"
      },
      "outputs": [],
      "source": [
        "class OneStep(tf.keras.Model):\n",
        "  def __init__(self, model, chars_from_ids, ids_from_chars, temperature=1.0):\n",
        "    super().__init__()\n",
        "    self.temperature = temperature\n",
        "    self.model = model\n",
        "    self.chars_from_ids = chars_from_ids\n",
        "    self.ids_from_chars = ids_from_chars\n",
        "\n",
        "    # Create a mask to prevent \"[UNK]\" from being generated.\n",
        "    skip_ids = self.ids_from_chars(['[UNK]'])[:, None]\n",
        "    sparse_mask = tf.SparseTensor(\n",
        "        # Put a -inf at each bad index.\n",
        "        values=[-float('inf')]*len(skip_ids),\n",
        "        indices=skip_ids,\n",
        "        # Match the shape to the vocabulary\n",
        "        dense_shape=[len(ids_from_chars.get_vocabulary())])\n",
        "    self.prediction_mask = tf.sparse.to_dense(sparse_mask)\n",
        "\n",
        "  @tf.function\n",
        "  def generate_one_step(self, inputs, states=None):\n",
        "    # Convert strings to token IDs.\n",
        "    input_chars = tf.strings.unicode_split(inputs, 'UTF-8')\n",
        "    input_ids = self.ids_from_chars(input_chars).to_tensor()\n",
        "\n",
        "    # Run the model.\n",
        "    # predicted_logits.shape is [batch, char, next_char_logits]\n",
        "    predicted_logits, states = self.model(inputs=input_ids, states=states,\n",
        "                                          return_state=True)\n",
        "    # Only use the last prediction.\n",
        "    predicted_logits = predicted_logits[:, -1, :]\n",
        "    predicted_logits = predicted_logits/self.temperature\n",
        "    # Apply the prediction mask: prevent \"[UNK]\" from being generated.\n",
        "    predicted_logits = predicted_logits + self.prediction_mask\n",
        "\n",
        "    # Sample the output logits to generate token IDs.\n",
        "    predicted_ids = tf.random.categorical(predicted_logits, num_samples=1)\n",
        "    predicted_ids = tf.squeeze(predicted_ids, axis=-1)\n",
        "\n",
        "    # Convert from token ids to characters\n",
        "    predicted_chars = self.chars_from_ids(predicted_ids)\n",
        "\n",
        "    # Return the characters and model state.\n",
        "    return predicted_chars, states"
      ]
    },
    {
      "cell_type": "code",
      "execution_count": 137,
      "metadata": {
        "id": "fqMOuDutnOxK"
      },
      "outputs": [],
      "source": [
        "one_step_model = OneStep(model, chars_from_ids, ids_from_chars)"
      ]
    },
    {
      "cell_type": "code",
      "execution_count": 176,
      "metadata": {
        "id": "ST7PSyk9t1mT",
        "outputId": "e40b5a9d-0d9c-414a-c95b-d6d5e5ed45fb",
        "colab": {
          "base_uri": "https://localhost:8080/"
        }
      },
      "outputs": [
        {
          "output_type": "stream",
          "name": "stdout",
          "text": [
            "Pam doing chatting with you? No! Guh! OW! Awww, help, help me! I fell off the toilet. I'm caught between the toilet and the wall. Ugh, never happened. Uh, \n",
            "\n",
            "________________________________________________________________________________\n",
            "\n",
            "Run time: 0.272127628326416\n"
          ]
        }
      ],
      "source": [
        "start = time.time()\n",
        "states = None\n",
        "next_char = tf.constant([\"Pam \"])\n",
        "result = [next_char]\n",
        "\n",
        "for n in range(150):\n",
        "  next_char, states = one_step_model.generate_one_step(next_char, states=states)\n",
        "  result.append(next_char)\n",
        "\n",
        "result = tf.strings.join(result)\n",
        "end = time.time()\n",
        "print(result[0].numpy().decode('utf-8'), '\\n\\n' + '_'*80)\n",
        "print('\\nRun time:', end - start)"
      ]
    },
    {
      "cell_type": "code",
      "source": [
        ""
      ],
      "metadata": {
        "id": "IlfNHAm9vSxp"
      },
      "execution_count": null,
      "outputs": []
    },
    {
      "cell_type": "code",
      "execution_count": null,
      "metadata": {
        "id": "ZkLu7Y8UCMT7"
      },
      "outputs": [],
      "source": [
        "# start = time.time()\n",
        "# states = None\n",
        "# next_char = tf.constant(['ROMEO:', 'ROMEO:', 'ROMEO:', 'ROMEO:', 'ROMEO:'])\n",
        "# result = [next_char]\n",
        "\n",
        "# for n in range(1000):\n",
        "#   next_char, states = one_step_model.generate_one_step(next_char, states=states)\n",
        "#   result.append(next_char)\n",
        "\n",
        "# result = tf.strings.join(result)\n",
        "# end = time.time()\n",
        "# print(result, '\\n\\n' + '_'*80)\n",
        "# print('\\nRun time:', end - start)"
      ]
    },
    {
      "cell_type": "markdown",
      "metadata": {
        "id": "UlUQzwu6EXam"
      },
      "source": [
        "## Export the generator\n",
        "\n",
        "This single-step model can easily be [saved and restored](https://www.tensorflow.org/guide/saved_model), allowing you to use it anywhere a `tf.saved_model` is accepted."
      ]
    },
    {
      "cell_type": "code",
      "execution_count": 162,
      "metadata": {
        "id": "3Grk32H_CzsC",
        "colab": {
          "base_uri": "https://localhost:8080/"
        },
        "outputId": "988f49a4-d25a-4714-9ad7-1b66c7fba357"
      },
      "outputs": [
        {
          "output_type": "stream",
          "name": "stdout",
          "text": [
            "WARNING:tensorflow:Skipping full serialization of Keras layer <__main__.OneStep object at 0x7f16d40b4710>, because it is not built.\n"
          ]
        },
        {
          "output_type": "stream",
          "name": "stderr",
          "text": [
            "WARNING:absl:Found untraced functions such as gru_cell_3_layer_call_fn, gru_cell_3_layer_call_and_return_conditional_losses, gru_cell_3_layer_call_fn, gru_cell_3_layer_call_and_return_conditional_losses, gru_cell_3_layer_call_and_return_conditional_losses while saving (showing 5 of 5). These functions will not be directly callable after loading.\n"
          ]
        },
        {
          "output_type": "stream",
          "name": "stdout",
          "text": [
            "INFO:tensorflow:Assets written to: RNN_Model/assets\n"
          ]
        },
        {
          "output_type": "stream",
          "name": "stderr",
          "text": [
            "INFO:tensorflow:Assets written to: RNN_Model/assets\n"
          ]
        }
      ],
      "source": [
        "tf.saved_model.save(one_step_model, 'RNN_Model')\n",
        "# one_step_reloaded = tf.saved_model.load('RNN_Model')"
      ]
    },
    {
      "cell_type": "code",
      "source": [
        "from google.colab import files\n",
        "import os\n",
        "\n",
        "dir_to_zip = 'RNN_Model/' #@param {type: \"string\"}\n",
        "output_filename = 'RNN_Model.zip' #@param {type: \"string\"}\n",
        "delete_dir_after_download = \"No\"  #@param ['Yes', 'No']\n",
        "\n",
        "os.system( \"zip -r {} {}\".format( output_filename , dir_to_zip ) )\n",
        "\n",
        "if delete_dir_after_download == \"Yes\":\n",
        "    os.system( \"rm -r {}\".format( dir_to_zip ) )\n",
        "\n",
        "files.download( output_filename )"
      ],
      "metadata": {
        "colab": {
          "base_uri": "https://localhost:8080/",
          "height": 17
        },
        "id": "_-mPC2jcF615",
        "outputId": "8a817f35-1240-4fde-926d-ac409b001fbc"
      },
      "execution_count": 169,
      "outputs": [
        {
          "output_type": "display_data",
          "data": {
            "application/javascript": [
              "\n",
              "    async function download(id, filename, size) {\n",
              "      if (!google.colab.kernel.accessAllowed) {\n",
              "        return;\n",
              "      }\n",
              "      const div = document.createElement('div');\n",
              "      const label = document.createElement('label');\n",
              "      label.textContent = `Downloading \"${filename}\": `;\n",
              "      div.appendChild(label);\n",
              "      const progress = document.createElement('progress');\n",
              "      progress.max = size;\n",
              "      div.appendChild(progress);\n",
              "      document.body.appendChild(div);\n",
              "\n",
              "      const buffers = [];\n",
              "      let downloaded = 0;\n",
              "\n",
              "      const channel = await google.colab.kernel.comms.open(id);\n",
              "      // Send a message to notify the kernel that we're ready.\n",
              "      channel.send({})\n",
              "\n",
              "      for await (const message of channel.messages) {\n",
              "        // Send a message to notify the kernel that we're ready.\n",
              "        channel.send({})\n",
              "        if (message.buffers) {\n",
              "          for (const buffer of message.buffers) {\n",
              "            buffers.push(buffer);\n",
              "            downloaded += buffer.byteLength;\n",
              "            progress.value = downloaded;\n",
              "          }\n",
              "        }\n",
              "      }\n",
              "      const blob = new Blob(buffers, {type: 'application/binary'});\n",
              "      const a = document.createElement('a');\n",
              "      a.href = window.URL.createObjectURL(blob);\n",
              "      a.download = filename;\n",
              "      div.appendChild(a);\n",
              "      a.click();\n",
              "      div.remove();\n",
              "    }\n",
              "  "
            ],
            "text/plain": [
              "<IPython.core.display.Javascript object>"
            ]
          },
          "metadata": {}
        },
        {
          "output_type": "display_data",
          "data": {
            "application/javascript": [
              "download(\"download_17d72dca-5cb1-4760-aa28-ecc5a5989300\", \"RNN_Model.zip\", 44701313)"
            ],
            "text/plain": [
              "<IPython.core.display.Javascript object>"
            ]
          },
          "metadata": {}
        }
      ]
    },
    {
      "cell_type": "code",
      "execution_count": null,
      "metadata": {
        "id": "_Z9bb_wX6Uuu"
      },
      "outputs": [],
      "source": [
        "# states = None\n",
        "# next_char = tf.constant(['Dwight'])\n",
        "# result = [next_char]\n",
        "\n",
        "# for n in range(100):\n",
        "#   next_char, states = one_step_reloaded.generate_one_step(next_char, states=states)\n",
        "#   result.append(next_char)\n",
        "\n",
        "# print(tf.strings.join(result)[0].numpy().decode(\"utf-8\"))"
      ]
    },
    {
      "cell_type": "markdown",
      "metadata": {
        "id": "Y4QwTjAM6A2O"
      },
      "source": [
        "## Advanced: Customized Training\n",
        "\n",
        "The above training procedure is simple, but does not give you much control.\n",
        "It uses teacher-forcing which prevents bad predictions from being fed back to the model, so the model never learns to recover from mistakes.\n",
        "\n",
        "So now that you've seen how to run the model manually next you'll implement the training loop. This gives a starting point if, for example, you want to implement _curriculum  learning_ to help stabilize the model's open-loop output.\n",
        "\n",
        "The most important part of a custom training loop is the train step function.\n",
        "\n",
        "Use `tf.GradientTape` to track the gradients. You can learn more about this approach by reading the [eager execution guide](https://www.tensorflow.org/guide/eager).\n",
        "\n",
        "The basic procedure is:\n",
        "\n",
        "1. Execute the model and calculate the loss under a `tf.GradientTape`.\n",
        "2. Calculate the updates and apply them to the model using the optimizer."
      ]
    },
    {
      "cell_type": "code",
      "execution_count": 158,
      "metadata": {
        "id": "x0pZ101hjwW0"
      },
      "outputs": [],
      "source": [
        "class CustomTraining(MyModel):\n",
        "  @tf.function\n",
        "  def train_step(self, inputs):\n",
        "      inputs, labels = inputs\n",
        "      with tf.GradientTape() as tape:\n",
        "          predictions = self(inputs, training=True)\n",
        "          loss = self.loss(labels, predictions)\n",
        "      grads = tape.gradient(loss, model.trainable_variables)\n",
        "      self.optimizer.apply_gradients(zip(grads, model.trainable_variables))\n",
        "\n",
        "      return {'loss': loss}"
      ]
    },
    {
      "cell_type": "markdown",
      "metadata": {
        "id": "4Oc-eJALcK8B"
      },
      "source": [
        "The above implementation of the `train_step` method follows [Keras' `train_step` conventions](https://www.tensorflow.org/guide/keras/customizing_what_happens_in_fit). This is optional, but it allows you to change the behavior of the train step and still use keras' `Model.compile` and `Model.fit` methods."
      ]
    },
    {
      "cell_type": "code",
      "execution_count": 159,
      "metadata": {
        "id": "XKyWiZ_Lj7w5"
      },
      "outputs": [],
      "source": [
        "model = CustomTraining(\n",
        "    vocab_size=len(ids_from_chars.get_vocabulary()),\n",
        "    embedding_dim=embedding_dim,\n",
        "    rnn_units=rnn_units)"
      ]
    },
    {
      "cell_type": "code",
      "execution_count": 160,
      "metadata": {
        "id": "U817KUm7knlm"
      },
      "outputs": [],
      "source": [
        "model.compile(optimizer = tf.keras.optimizers.Adam(),\n",
        "              loss=tf.keras.losses.SparseCategoricalCrossentropy(from_logits=True))"
      ]
    },
    {
      "cell_type": "code",
      "execution_count": 161,
      "metadata": {
        "id": "o694aoBPnEi9",
        "colab": {
          "base_uri": "https://localhost:8080/"
        },
        "outputId": "95179b25-9f0d-4f61-ef26-c77d233a9935"
      },
      "outputs": [
        {
          "output_type": "stream",
          "name": "stdout",
          "text": [
            "87/87 [==============================] - 7s 57ms/step - loss: 3.0575\n"
          ]
        },
        {
          "output_type": "execute_result",
          "data": {
            "text/plain": [
              "<keras.callbacks.History at 0x7f16d3ec1a90>"
            ]
          },
          "metadata": {},
          "execution_count": 161
        }
      ],
      "source": [
        "model.fit(dataset, epochs=1)"
      ]
    },
    {
      "cell_type": "markdown",
      "metadata": {
        "id": "W8nAtKHVoInR"
      },
      "source": [
        "Or if you need more control, you can write your own complete custom training loop:"
      ]
    },
    {
      "cell_type": "code",
      "execution_count": null,
      "metadata": {
        "id": "d4tSNwymzf-q"
      },
      "outputs": [],
      "source": [
        "# EPOCHS = 10\n",
        "\n",
        "# mean = tf.metrics.Mean()\n",
        "\n",
        "# for epoch in range(EPOCHS):\n",
        "#     start = time.time()\n",
        "\n",
        "#     mean.reset_states()\n",
        "#     for (batch_n, (inp, target)) in enumerate(dataset):\n",
        "#         logs = model.train_step([inp, target])\n",
        "#         mean.update_state(logs['loss'])\n",
        "\n",
        "#         if batch_n % 50 == 0:\n",
        "#             template = f\"Epoch {epoch+1} Batch {batch_n} Loss {logs['loss']:.4f}\"\n",
        "#             print(template)\n",
        "\n",
        "#     # saving (checkpoint) the model every 5 epochs\n",
        "#     if (epoch + 1) % 5 == 0:\n",
        "#         model.save_weights(checkpoint_prefix.format(epoch=epoch))\n",
        "\n",
        "#     print()\n",
        "#     print(f'Epoch {epoch+1} Loss: {mean.result().numpy():.4f}')\n",
        "#     print(f'Time taken for 1 epoch {time.time() - start:.2f} sec')\n",
        "#     print(\"_\"*80)\n",
        "\n",
        "# model.save_weights(checkpoint_prefix.format(epoch=epoch))"
      ]
    }
  ],
  "metadata": {
    "accelerator": "GPU",
    "colab": {
      "collapsed_sections": [],
      "name": "text_generation_michael.ipynb",
      "provenance": [],
      "machine_shape": "hm"
    },
    "kernelspec": {
      "display_name": "Python 3",
      "name": "python3"
    }
  },
  "nbformat": 4,
  "nbformat_minor": 0
}